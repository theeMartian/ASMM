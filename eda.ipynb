{
 "cells": [
  {
   "cell_type": "code",
   "execution_count": 2,
   "metadata": {},
   "outputs": [],
   "source": [
    "import pandas as pd \n",
    "import numpy as np\n",
    "import matplotlib.pyplot as plt\n",
    "import seaborn as sns"
   ]
  },
  {
   "cell_type": "code",
   "execution_count": 5,
   "metadata": {},
   "outputs": [
    {
     "data": {
      "text/plain": [
       "((373, 12), (558, 11))"
      ]
     },
     "execution_count": 5,
     "metadata": {},
     "output_type": "execute_result"
    }
   ],
   "source": [
    "train = pd.read_csv('./data/Train.csv')\n",
    "test = pd.read_csv('./data/Test.csv')\n",
    "sample_submission = pd.read_csv('./data/SampleSubmission.csv')\n",
    "train.shape, test.shape"
   ]
  },
  {
   "cell_type": "code",
   "execution_count": 7,
   "metadata": {},
   "outputs": [
    {
     "data": {
      "text/html": [
       "<div>\n",
       "<style scoped>\n",
       "    .dataframe tbody tr th:only-of-type {\n",
       "        vertical-align: middle;\n",
       "    }\n",
       "\n",
       "    .dataframe tbody tr th {\n",
       "        vertical-align: top;\n",
       "    }\n",
       "\n",
       "    .dataframe thead th {\n",
       "        text-align: right;\n",
       "    }\n",
       "</style>\n",
       "<table border=\"1\" class=\"dataframe\">\n",
       "  <thead>\n",
       "    <tr style=\"text-align: right;\">\n",
       "      <th></th>\n",
       "      <th>MERCHANT_CATEGORIZED_AT</th>\n",
       "      <th>MERCHANT_NAME</th>\n",
       "      <th>MERCHANT_CATEGORIZED_AS</th>\n",
       "      <th>PURCHASE_VALUE</th>\n",
       "      <th>PURCHASED_AT</th>\n",
       "      <th>IS_PURCHASE_PAID_VIA_MPESA_SEND_MONEY</th>\n",
       "      <th>USER_AGE</th>\n",
       "      <th>USER_GENDER</th>\n",
       "      <th>USER_HOUSEHOLD</th>\n",
       "      <th>USER_INCOME</th>\n",
       "      <th>USER_ID</th>\n",
       "      <th>Transaction_ID</th>\n",
       "    </tr>\n",
       "  </thead>\n",
       "  <tbody>\n",
       "    <tr>\n",
       "      <th>0</th>\n",
       "      <td>2022-05-04 10:25:50.588042+00</td>\n",
       "      <td>UONSDA CHURCH  MOGERE MWAYO TITHE</td>\n",
       "      <td>Rent / Mortgage</td>\n",
       "      <td>1700</td>\n",
       "      <td>2022-05-04 13:56:00+00</td>\n",
       "      <td>False</td>\n",
       "      <td>NaN</td>\n",
       "      <td>Male</td>\n",
       "      <td>3</td>\n",
       "      <td>10000</td>\n",
       "      <td>ID_ZX4DCF4K</td>\n",
       "      <td>ID_04mk78fa</td>\n",
       "    </tr>\n",
       "    <tr>\n",
       "      <th>1</th>\n",
       "      <td>2021-10-25 16:18:38.586837+00</td>\n",
       "      <td>PARK N GO</td>\n",
       "      <td>Transport &amp; Fuel</td>\n",
       "      <td>100</td>\n",
       "      <td>2021-10-24 14:12:00+00</td>\n",
       "      <td>False</td>\n",
       "      <td>25.0</td>\n",
       "      <td>Female</td>\n",
       "      <td>4</td>\n",
       "      <td>90000</td>\n",
       "      <td>ID_U9WZMGJZ</td>\n",
       "      <td>ID_04xkfb07</td>\n",
       "    </tr>\n",
       "  </tbody>\n",
       "</table>\n",
       "</div>"
      ],
      "text/plain": [
       "         MERCHANT_CATEGORIZED_AT                      MERCHANT_NAME  \\\n",
       "0  2022-05-04 10:25:50.588042+00  UONSDA CHURCH  MOGERE MWAYO TITHE   \n",
       "1  2021-10-25 16:18:38.586837+00                          PARK N GO   \n",
       "\n",
       "  MERCHANT_CATEGORIZED_AS  PURCHASE_VALUE            PURCHASED_AT  \\\n",
       "0         Rent / Mortgage            1700  2022-05-04 13:56:00+00   \n",
       "1        Transport & Fuel             100  2021-10-24 14:12:00+00   \n",
       "\n",
       "   IS_PURCHASE_PAID_VIA_MPESA_SEND_MONEY  USER_AGE USER_GENDER  \\\n",
       "0                                  False       NaN        Male   \n",
       "1                                  False      25.0      Female   \n",
       "\n",
       "   USER_HOUSEHOLD  USER_INCOME      USER_ID Transaction_ID  \n",
       "0               3        10000  ID_ZX4DCF4K    ID_04mk78fa  \n",
       "1               4        90000  ID_U9WZMGJZ    ID_04xkfb07  "
      ]
     },
     "execution_count": 7,
     "metadata": {},
     "output_type": "execute_result"
    }
   ],
   "source": [
    "train.head(2)"
   ]
  },
  {
   "cell_type": "code",
   "execution_count": 8,
   "metadata": {},
   "outputs": [
    {
     "data": {
      "text/html": [
       "<div>\n",
       "<style scoped>\n",
       "    .dataframe tbody tr th:only-of-type {\n",
       "        vertical-align: middle;\n",
       "    }\n",
       "\n",
       "    .dataframe tbody tr th {\n",
       "        vertical-align: top;\n",
       "    }\n",
       "\n",
       "    .dataframe thead th {\n",
       "        text-align: right;\n",
       "    }\n",
       "</style>\n",
       "<table border=\"1\" class=\"dataframe\">\n",
       "  <thead>\n",
       "    <tr style=\"text-align: right;\">\n",
       "      <th></th>\n",
       "      <th>count</th>\n",
       "      <th>mean</th>\n",
       "      <th>std</th>\n",
       "      <th>min</th>\n",
       "      <th>25%</th>\n",
       "      <th>50%</th>\n",
       "      <th>75%</th>\n",
       "      <th>max</th>\n",
       "    </tr>\n",
       "  </thead>\n",
       "  <tbody>\n",
       "    <tr>\n",
       "      <th>PURCHASE_VALUE</th>\n",
       "      <td>373.0</td>\n",
       "      <td>4506.522788</td>\n",
       "      <td>15722.261797</td>\n",
       "      <td>10.0</td>\n",
       "      <td>150.0</td>\n",
       "      <td>690.0</td>\n",
       "      <td>2000.0</td>\n",
       "      <td>150000.0</td>\n",
       "    </tr>\n",
       "    <tr>\n",
       "      <th>USER_AGE</th>\n",
       "      <td>61.0</td>\n",
       "      <td>25.803279</td>\n",
       "      <td>1.423841</td>\n",
       "      <td>25.0</td>\n",
       "      <td>25.0</td>\n",
       "      <td>25.0</td>\n",
       "      <td>27.0</td>\n",
       "      <td>32.0</td>\n",
       "    </tr>\n",
       "    <tr>\n",
       "      <th>USER_HOUSEHOLD</th>\n",
       "      <td>373.0</td>\n",
       "      <td>2.831099</td>\n",
       "      <td>1.600033</td>\n",
       "      <td>1.0</td>\n",
       "      <td>1.0</td>\n",
       "      <td>3.0</td>\n",
       "      <td>4.0</td>\n",
       "      <td>7.0</td>\n",
       "    </tr>\n",
       "    <tr>\n",
       "      <th>USER_INCOME</th>\n",
       "      <td>373.0</td>\n",
       "      <td>146235.924933</td>\n",
       "      <td>166521.780346</td>\n",
       "      <td>8000.0</td>\n",
       "      <td>23000.0</td>\n",
       "      <td>90000.0</td>\n",
       "      <td>200000.0</td>\n",
       "      <td>1000000.0</td>\n",
       "    </tr>\n",
       "  </tbody>\n",
       "</table>\n",
       "</div>"
      ],
      "text/plain": [
       "                count           mean            std     min      25%      50%  \\\n",
       "PURCHASE_VALUE  373.0    4506.522788   15722.261797    10.0    150.0    690.0   \n",
       "USER_AGE         61.0      25.803279       1.423841    25.0     25.0     25.0   \n",
       "USER_HOUSEHOLD  373.0       2.831099       1.600033     1.0      1.0      3.0   \n",
       "USER_INCOME     373.0  146235.924933  166521.780346  8000.0  23000.0  90000.0   \n",
       "\n",
       "                     75%        max  \n",
       "PURCHASE_VALUE    2000.0   150000.0  \n",
       "USER_AGE            27.0       32.0  \n",
       "USER_HOUSEHOLD       4.0        7.0  \n",
       "USER_INCOME     200000.0  1000000.0  "
      ]
     },
     "execution_count": 8,
     "metadata": {},
     "output_type": "execute_result"
    }
   ],
   "source": [
    "train.describe().T"
   ]
  },
  {
   "cell_type": "code",
   "execution_count": 9,
   "metadata": {},
   "outputs": [
    {
     "data": {
      "text/plain": [
       "Index(['MERCHANT_CATEGORIZED_AT', 'MERCHANT_NAME', 'MERCHANT_CATEGORIZED_AS',\n",
       "       'PURCHASE_VALUE', 'PURCHASED_AT',\n",
       "       'IS_PURCHASE_PAID_VIA_MPESA_SEND_MONEY', 'USER_AGE', 'USER_GENDER',\n",
       "       'USER_HOUSEHOLD', 'USER_INCOME', 'USER_ID', 'Transaction_ID'],\n",
       "      dtype='object')"
      ]
     },
     "execution_count": 9,
     "metadata": {},
     "output_type": "execute_result"
    }
   ],
   "source": [
    "train.columns"
   ]
  },
  {
   "cell_type": "code",
   "execution_count": null,
   "metadata": {},
   "outputs": [],
   "source": []
  }
 ],
 "metadata": {
  "kernelspec": {
   "display_name": "Python 3.8.5 ('base')",
   "language": "python",
   "name": "python3"
  },
  "language_info": {
   "codemirror_mode": {
    "name": "ipython",
    "version": 3
   },
   "file_extension": ".py",
   "mimetype": "text/x-python",
   "name": "python",
   "nbconvert_exporter": "python",
   "pygments_lexer": "ipython3",
   "version": "3.8.5"
  },
  "orig_nbformat": 4,
  "vscode": {
   "interpreter": {
    "hash": "8419eec2978427b8674b3c4d9ff082f3a736a9371089132db9f1280a89064118"
   }
  }
 },
 "nbformat": 4,
 "nbformat_minor": 2
}
