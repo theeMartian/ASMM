{
 "cells": [
  {
   "cell_type": "code",
   "execution_count": 1,
   "metadata": {},
   "outputs": [],
   "source": [
    "import pandas as pd \n",
    "import numpy as np\n",
    "import matplotlib.pyplot as plt\n",
    "import seaborn as sns\n",
    "\n",
    "import warnings\n",
    "warnings.filterwarnings('ignore')"
   ]
  },
  {
   "cell_type": "code",
   "execution_count": 54,
   "metadata": {},
   "outputs": [
    {
     "data": {
      "text/plain": [
       "((373, 12), (558, 11))"
      ]
     },
     "execution_count": 54,
     "metadata": {},
     "output_type": "execute_result"
    }
   ],
   "source": [
    "train = pd.read_csv('./data/Train.csv')\n",
    "test = pd.read_csv('./data/Test.csv')\n",
    "sample_submission = pd.read_csv('./data/SampleSubmission.csv')\n",
    "train.shape, test.shape"
   ]
  },
  {
   "cell_type": "code",
   "execution_count": 55,
   "metadata": {},
   "outputs": [
    {
     "data": {
      "text/html": [
       "<div>\n",
       "<style scoped>\n",
       "    .dataframe tbody tr th:only-of-type {\n",
       "        vertical-align: middle;\n",
       "    }\n",
       "\n",
       "    .dataframe tbody tr th {\n",
       "        vertical-align: top;\n",
       "    }\n",
       "\n",
       "    .dataframe thead th {\n",
       "        text-align: right;\n",
       "    }\n",
       "</style>\n",
       "<table border=\"1\" class=\"dataframe\">\n",
       "  <thead>\n",
       "    <tr style=\"text-align: right;\">\n",
       "      <th></th>\n",
       "      <th>MERCHANT_CATEGORIZED_AT</th>\n",
       "      <th>MERCHANT_NAME</th>\n",
       "      <th>MERCHANT_CATEGORIZED_AS</th>\n",
       "      <th>PURCHASE_VALUE</th>\n",
       "      <th>PURCHASED_AT</th>\n",
       "      <th>IS_PURCHASE_PAID_VIA_MPESA_SEND_MONEY</th>\n",
       "      <th>USER_AGE</th>\n",
       "      <th>USER_GENDER</th>\n",
       "      <th>USER_HOUSEHOLD</th>\n",
       "      <th>USER_INCOME</th>\n",
       "      <th>USER_ID</th>\n",
       "      <th>Transaction_ID</th>\n",
       "    </tr>\n",
       "  </thead>\n",
       "  <tbody>\n",
       "    <tr>\n",
       "      <th>0</th>\n",
       "      <td>2022-05-04 10:25:50.588042+00</td>\n",
       "      <td>UONSDA CHURCH  MOGERE MWAYO TITHE</td>\n",
       "      <td>Rent / Mortgage</td>\n",
       "      <td>1700</td>\n",
       "      <td>2022-05-04 13:56:00+00</td>\n",
       "      <td>False</td>\n",
       "      <td>NaN</td>\n",
       "      <td>Male</td>\n",
       "      <td>3</td>\n",
       "      <td>10000</td>\n",
       "      <td>ID_ZX4DCF4K</td>\n",
       "      <td>ID_04mk78fa</td>\n",
       "    </tr>\n",
       "    <tr>\n",
       "      <th>1</th>\n",
       "      <td>2021-10-25 16:18:38.586837+00</td>\n",
       "      <td>PARK N GO</td>\n",
       "      <td>Transport &amp; Fuel</td>\n",
       "      <td>100</td>\n",
       "      <td>2021-10-24 14:12:00+00</td>\n",
       "      <td>False</td>\n",
       "      <td>25.0</td>\n",
       "      <td>Female</td>\n",
       "      <td>4</td>\n",
       "      <td>90000</td>\n",
       "      <td>ID_U9WZMGJZ</td>\n",
       "      <td>ID_04xkfb07</td>\n",
       "    </tr>\n",
       "  </tbody>\n",
       "</table>\n",
       "</div>"
      ],
      "text/plain": [
       "         MERCHANT_CATEGORIZED_AT                      MERCHANT_NAME  \\\n",
       "0  2022-05-04 10:25:50.588042+00  UONSDA CHURCH  MOGERE MWAYO TITHE   \n",
       "1  2021-10-25 16:18:38.586837+00                          PARK N GO   \n",
       "\n",
       "  MERCHANT_CATEGORIZED_AS  PURCHASE_VALUE            PURCHASED_AT  \\\n",
       "0         Rent / Mortgage            1700  2022-05-04 13:56:00+00   \n",
       "1        Transport & Fuel             100  2021-10-24 14:12:00+00   \n",
       "\n",
       "   IS_PURCHASE_PAID_VIA_MPESA_SEND_MONEY  USER_AGE USER_GENDER  \\\n",
       "0                                  False       NaN        Male   \n",
       "1                                  False      25.0      Female   \n",
       "\n",
       "   USER_HOUSEHOLD  USER_INCOME      USER_ID Transaction_ID  \n",
       "0               3        10000  ID_ZX4DCF4K    ID_04mk78fa  \n",
       "1               4        90000  ID_U9WZMGJZ    ID_04xkfb07  "
      ]
     },
     "execution_count": 55,
     "metadata": {},
     "output_type": "execute_result"
    }
   ],
   "source": [
    "train.head(2)"
   ]
  },
  {
   "cell_type": "code",
   "execution_count": 56,
   "metadata": {},
   "outputs": [
    {
     "data": {
      "text/html": [
       "<div>\n",
       "<style scoped>\n",
       "    .dataframe tbody tr th:only-of-type {\n",
       "        vertical-align: middle;\n",
       "    }\n",
       "\n",
       "    .dataframe tbody tr th {\n",
       "        vertical-align: top;\n",
       "    }\n",
       "\n",
       "    .dataframe thead th {\n",
       "        text-align: right;\n",
       "    }\n",
       "</style>\n",
       "<table border=\"1\" class=\"dataframe\">\n",
       "  <thead>\n",
       "    <tr style=\"text-align: right;\">\n",
       "      <th></th>\n",
       "      <th>count</th>\n",
       "      <th>mean</th>\n",
       "      <th>std</th>\n",
       "      <th>min</th>\n",
       "      <th>25%</th>\n",
       "      <th>50%</th>\n",
       "      <th>75%</th>\n",
       "      <th>max</th>\n",
       "    </tr>\n",
       "  </thead>\n",
       "  <tbody>\n",
       "    <tr>\n",
       "      <th>PURCHASE_VALUE</th>\n",
       "      <td>373.0</td>\n",
       "      <td>4506.522788</td>\n",
       "      <td>15722.261797</td>\n",
       "      <td>10.0</td>\n",
       "      <td>150.0</td>\n",
       "      <td>690.0</td>\n",
       "      <td>2000.0</td>\n",
       "      <td>150000.0</td>\n",
       "    </tr>\n",
       "    <tr>\n",
       "      <th>USER_AGE</th>\n",
       "      <td>61.0</td>\n",
       "      <td>25.803279</td>\n",
       "      <td>1.423841</td>\n",
       "      <td>25.0</td>\n",
       "      <td>25.0</td>\n",
       "      <td>25.0</td>\n",
       "      <td>27.0</td>\n",
       "      <td>32.0</td>\n",
       "    </tr>\n",
       "    <tr>\n",
       "      <th>USER_HOUSEHOLD</th>\n",
       "      <td>373.0</td>\n",
       "      <td>2.831099</td>\n",
       "      <td>1.600033</td>\n",
       "      <td>1.0</td>\n",
       "      <td>1.0</td>\n",
       "      <td>3.0</td>\n",
       "      <td>4.0</td>\n",
       "      <td>7.0</td>\n",
       "    </tr>\n",
       "    <tr>\n",
       "      <th>USER_INCOME</th>\n",
       "      <td>373.0</td>\n",
       "      <td>146235.924933</td>\n",
       "      <td>166521.780346</td>\n",
       "      <td>8000.0</td>\n",
       "      <td>23000.0</td>\n",
       "      <td>90000.0</td>\n",
       "      <td>200000.0</td>\n",
       "      <td>1000000.0</td>\n",
       "    </tr>\n",
       "  </tbody>\n",
       "</table>\n",
       "</div>"
      ],
      "text/plain": [
       "                count           mean            std     min      25%      50%  \\\n",
       "PURCHASE_VALUE  373.0    4506.522788   15722.261797    10.0    150.0    690.0   \n",
       "USER_AGE         61.0      25.803279       1.423841    25.0     25.0     25.0   \n",
       "USER_HOUSEHOLD  373.0       2.831099       1.600033     1.0      1.0      3.0   \n",
       "USER_INCOME     373.0  146235.924933  166521.780346  8000.0  23000.0  90000.0   \n",
       "\n",
       "                     75%        max  \n",
       "PURCHASE_VALUE    2000.0   150000.0  \n",
       "USER_AGE            27.0       32.0  \n",
       "USER_HOUSEHOLD       4.0        7.0  \n",
       "USER_INCOME     200000.0  1000000.0  "
      ]
     },
     "execution_count": 56,
     "metadata": {},
     "output_type": "execute_result"
    }
   ],
   "source": [
    "train.describe().T"
   ]
  },
  {
   "cell_type": "code",
   "execution_count": 57,
   "metadata": {},
   "outputs": [
    {
     "data": {
      "text/plain": [
       "Index(['MERCHANT_CATEGORIZED_AT', 'MERCHANT_NAME', 'MERCHANT_CATEGORIZED_AS',\n",
       "       'PURCHASE_VALUE', 'PURCHASED_AT',\n",
       "       'IS_PURCHASE_PAID_VIA_MPESA_SEND_MONEY', 'USER_AGE', 'USER_GENDER',\n",
       "       'USER_HOUSEHOLD', 'USER_INCOME', 'USER_ID', 'Transaction_ID'],\n",
       "      dtype='object')"
      ]
     },
     "execution_count": 57,
     "metadata": {},
     "output_type": "execute_result"
    }
   ],
   "source": [
    "train.columns"
   ]
  },
  {
   "cell_type": "markdown",
   "metadata": {},
   "source": [
    "### Checking and Dealing with Missing Values"
   ]
  },
  {
   "cell_type": "code",
   "execution_count": 58,
   "metadata": {},
   "outputs": [
    {
     "name": "stdout",
     "output_type": "stream",
     "text": [
      "MERCHANT_CATEGORIZED_AT                  False\n",
      "MERCHANT_NAME                            False\n",
      "MERCHANT_CATEGORIZED_AS                  False\n",
      "PURCHASE_VALUE                           False\n",
      "PURCHASED_AT                             False\n",
      "IS_PURCHASE_PAID_VIA_MPESA_SEND_MONEY    False\n",
      "USER_AGE                                  True\n",
      "USER_GENDER                               True\n",
      "USER_HOUSEHOLD                           False\n",
      "USER_INCOME                              False\n",
      "USER_ID                                  False\n",
      "Transaction_ID                           False\n",
      "dtype: bool\n"
     ]
    }
   ],
   "source": [
    "# looking for missing entries in our train data\n",
    "print(train.isnull().any())"
   ]
  },
  {
   "cell_type": "code",
   "execution_count": 59,
   "metadata": {},
   "outputs": [
    {
     "name": "stdout",
     "output_type": "stream",
     "text": [
      "MERCHANT_CATEGORIZED_AT                    0\n",
      "MERCHANT_NAME                              0\n",
      "MERCHANT_CATEGORIZED_AS                    0\n",
      "PURCHASE_VALUE                             0\n",
      "PURCHASED_AT                               0\n",
      "IS_PURCHASE_PAID_VIA_MPESA_SEND_MONEY      0\n",
      "USER_AGE                                 312\n",
      "USER_GENDER                                6\n",
      "USER_HOUSEHOLD                             0\n",
      "USER_INCOME                                0\n",
      "USER_ID                                    0\n",
      "Transaction_ID                             0\n",
      "dtype: int64\n"
     ]
    }
   ],
   "source": [
    "# looking at the values\n",
    "print(train.isnull().sum())"
   ]
  },
  {
   "cell_type": "code",
   "execution_count": 60,
   "metadata": {},
   "outputs": [],
   "source": [
    "# Since USER_AGE has more missing values we'll fill those values with the median of the data\n",
    "user_age_median = np.median(train['USER_AGE'].dropna())\n",
    "train['USER_AGE'] = train['USER_AGE'].fillna(user_age_median)\n",
    "\n",
    "test_user_age_median = np.median(test['USER_AGE'].dropna())\n",
    "test['USER_AGE'] = test['USER_AGE'].fillna(test_user_age_median)"
   ]
  },
  {
   "cell_type": "code",
   "execution_count": 61,
   "metadata": {},
   "outputs": [
    {
     "data": {
      "text/plain": [
       "MERCHANT_CATEGORIZED_AT                  0\n",
       "MERCHANT_NAME                            0\n",
       "MERCHANT_CATEGORIZED_AS                  0\n",
       "PURCHASE_VALUE                           0\n",
       "PURCHASED_AT                             0\n",
       "IS_PURCHASE_PAID_VIA_MPESA_SEND_MONEY    0\n",
       "USER_AGE                                 0\n",
       "USER_GENDER                              6\n",
       "USER_HOUSEHOLD                           0\n",
       "USER_INCOME                              0\n",
       "USER_ID                                  0\n",
       "Transaction_ID                           0\n",
       "dtype: int64"
      ]
     },
     "execution_count": 61,
     "metadata": {},
     "output_type": "execute_result"
    }
   ],
   "source": [
    "# any missing values:\n",
    "train.isnull().sum()"
   ]
  },
  {
   "cell_type": "code",
   "execution_count": 62,
   "metadata": {},
   "outputs": [
    {
     "data": {
      "text/plain": [
       "MERCHANT_CATEGORIZED_AT                  0\n",
       "MERCHANT_NAME                            0\n",
       "PURCHASE_VALUE                           0\n",
       "PURCHASED_AT                             0\n",
       "IS_PURCHASE_PAID_VIA_MPESA_SEND_MONEY    0\n",
       "USER_AGE                                 0\n",
       "USER_GENDER                              5\n",
       "USER_HOUSEHOLD                           0\n",
       "USER_INCOME                              0\n",
       "USER_ID                                  0\n",
       "Transaction_ID                           0\n",
       "dtype: int64"
      ]
     },
     "execution_count": 62,
     "metadata": {},
     "output_type": "execute_result"
    }
   ],
   "source": [
    "test.isnull().sum()"
   ]
  },
  {
   "cell_type": "code",
   "execution_count": 63,
   "metadata": {},
   "outputs": [
    {
     "data": {
      "text/plain": [
       "Male      197\n",
       "Female    170\n",
       "Name: USER_GENDER, dtype: int64"
      ]
     },
     "execution_count": 63,
     "metadata": {},
     "output_type": "execute_result"
    }
   ],
   "source": [
    "train['USER_GENDER'].value_counts()"
   ]
  },
  {
   "cell_type": "code",
   "execution_count": 64,
   "metadata": {},
   "outputs": [
    {
     "data": {
      "text/plain": [
       "Male      307\n",
       "Female    246\n",
       "Name: USER_GENDER, dtype: int64"
      ]
     },
     "execution_count": 64,
     "metadata": {},
     "output_type": "execute_result"
    }
   ],
   "source": [
    "test['USER_GENDER'].value_counts()"
   ]
  },
  {
   "cell_type": "markdown",
   "metadata": {},
   "source": [
    "- We are going to fill in the missing USER_GENDER values with 'Male' as it more common.\n",
    "- There are definitely better ways of handling missing values.\n",
    "- [look at](https://towardsdatascience.com/8-methods-for-handling-missing-values-with-python-pandas-842544cdf891?gi=3ad6fb253a7b)"
   ]
  },
  {
   "cell_type": "code",
   "execution_count": 65,
   "metadata": {},
   "outputs": [],
   "source": [
    "train[\"USER_GENDER\"] = train[\"USER_GENDER\"].apply(lambda x: \"Male\" if pd.isna(x) else x)\n",
    "test[\"USER_GENDER\"] = test[\"USER_GENDER\"].apply(lambda x: \"Male\" if pd.isna(x) else x)"
   ]
  },
  {
   "cell_type": "code",
   "execution_count": 66,
   "metadata": {},
   "outputs": [
    {
     "data": {
      "text/plain": [
       "MERCHANT_CATEGORIZED_AT                  0\n",
       "MERCHANT_NAME                            0\n",
       "MERCHANT_CATEGORIZED_AS                  0\n",
       "PURCHASE_VALUE                           0\n",
       "PURCHASED_AT                             0\n",
       "IS_PURCHASE_PAID_VIA_MPESA_SEND_MONEY    0\n",
       "USER_AGE                                 0\n",
       "USER_GENDER                              0\n",
       "USER_HOUSEHOLD                           0\n",
       "USER_INCOME                              0\n",
       "USER_ID                                  0\n",
       "Transaction_ID                           0\n",
       "dtype: int64"
      ]
     },
     "execution_count": 66,
     "metadata": {},
     "output_type": "execute_result"
    }
   ],
   "source": [
    "train.isnull().sum()"
   ]
  },
  {
   "cell_type": "markdown",
   "metadata": {},
   "source": [
    "### Feature Engineering\n",
    "Some things you can try:\n",
    "1) Aggregating Categories\n",
    "- When working with categorical features it's important to ensure that each category has sufficient samples.\n",
    "- We'll agg the merchant name column.\n",
    "2) Transforming features\n",
    "- This might involve creating new features from the categories given."
   ]
  },
  {
   "cell_type": "markdown",
   "metadata": {},
   "source": [
    "#### 1) Dealing with the datetime columns\n"
   ]
  },
  {
   "cell_type": "code",
   "execution_count": 67,
   "metadata": {},
   "outputs": [
    {
     "data": {
      "text/plain": [
       "0      2022-05-04 10:25:50.588042+00\n",
       "1      2021-10-25 16:18:38.586837+00\n",
       "2      2022-05-20 14:17:30.917297+00\n",
       "3      2022-04-12 15:59:14.139347+00\n",
       "4      2022-05-04 10:24:26.709045+00\n",
       "                   ...              \n",
       "368    2021-08-06 11:28:03.723042+00\n",
       "369    2022-04-12 15:57:05.758311+00\n",
       "370     2021-12-01 08:33:13.82067+00\n",
       "371     2021-10-05 12:29:13.14963+00\n",
       "372    2022-04-12 15:59:14.139347+00\n",
       "Name: MERCHANT_CATEGORIZED_AT, Length: 373, dtype: object"
      ]
     },
     "execution_count": 67,
     "metadata": {},
     "output_type": "execute_result"
    }
   ],
   "source": [
    "train['MERCHANT_CATEGORIZED_AT']"
   ]
  },
  {
   "cell_type": "code",
   "execution_count": 68,
   "metadata": {},
   "outputs": [],
   "source": [
    "train['PURCHASED_AT'] = pd.to_datetime(train['PURCHASED_AT'], \n",
    "                                            format = '%Y-%m-%dT%H:%M:%S',\n",
    "                                            errors= 'coerce')\n",
    "train['MERCHANT_CATEGORIZED_AT'] = pd.to_datetime(train['MERCHANT_CATEGORIZED_AT'],\n",
    "                                            format = '%Y-%m-%dT%H:%M:%S',\n",
    "                                            errors= 'coerce')"
   ]
  },
  {
   "cell_type": "code",
   "execution_count": 69,
   "metadata": {},
   "outputs": [],
   "source": [
    "# ensuring we didn't miss a date\n",
    "assert train['PURCHASED_AT'].isnull().sum() == 0, 'missing PURCHASED_AT dates'\n",
    "assert train['MERCHANT_CATEGORIZED_AT'].isnull().sum() == 0, 'missing MERCHANT_CATEGORIZED_AT dates'"
   ]
  },
  {
   "cell_type": "markdown",
   "metadata": {},
   "source": [
    "#### Now with this what can we do?\n",
    "- Breaking apart the date to get the year, month, week of year, day of month, hour, minute, second, etc. \n",
    "- With this info, we can aggregate the purchases made by the time of day and month.\n",
    "- With some payments being 'seasonal', perse - rent usually being paid within the first week of the month, school fees being paid at the begining of school term.\n",
    "- I'll only apply this transformation to the PURCHASE_AT column. \n",
    "- I might experiment with MERCHANT_CATEGORIZED_AT column later to see if it improves my cv scores."
   ]
  },
  {
   "cell_type": "code",
   "execution_count": 70,
   "metadata": {},
   "outputs": [],
   "source": [
    "# PURCHASED_AT features\n",
    "train['PURCHASEDAT_YEAR'] = train['PURCHASED_AT'].dt.year\n",
    "train['PURCHASEDAT_MONTH'] = train['PURCHASED_AT'].dt.month\n",
    "train['PURCHASEDAT_WEEK'] = train['PURCHASED_AT'].dt.week\n",
    "train['PURCHASEDAT_DAY'] = train['PURCHASED_AT'].dt.day\n",
    "train['PURCHASEDAT_HOUR'] = train['PURCHASED_AT'].dt.hour\n",
    "train['PURCHASEDAT_MINUTE'] = train['PURCHASED_AT'].dt.minute\n",
    "train['PURCHASEDAT_DAYOFWEEK'] = train['PURCHASED_AT'].dt.dayofweek"
   ]
  },
  {
   "cell_type": "markdown",
   "metadata": {},
   "source": [
    "##### Exploring our dates a bit"
   ]
  },
  {
   "cell_type": "code",
   "execution_count": 71,
   "metadata": {},
   "outputs": [
    {
     "data": {
      "text/plain": [
       "PURCHASEDAT_YEAR\n",
       "2018      1\n",
       "2019     17\n",
       "2020     12\n",
       "2021    158\n",
       "2022    185\n",
       "dtype: int64"
      ]
     },
     "execution_count": 71,
     "metadata": {},
     "output_type": "execute_result"
    }
   ],
   "source": [
    "train.groupby('PURCHASEDAT_YEAR').size()"
   ]
  },
  {
   "cell_type": "code",
   "execution_count": 72,
   "metadata": {},
   "outputs": [
    {
     "data": {
      "text/plain": [
       "PURCHASEDAT_MONTH\n",
       "1     19\n",
       "2     16\n",
       "3     44\n",
       "4     58\n",
       "5     46\n",
       "6     27\n",
       "7     10\n",
       "8     23\n",
       "9     44\n",
       "10    44\n",
       "11    24\n",
       "12    18\n",
       "dtype: int64"
      ]
     },
     "execution_count": 72,
     "metadata": {},
     "output_type": "execute_result"
    }
   ],
   "source": [
    "train.groupby('PURCHASEDAT_MONTH').size()"
   ]
  },
  {
   "cell_type": "code",
   "execution_count": 73,
   "metadata": {},
   "outputs": [
    {
     "data": {
      "text/plain": [
       "PURCHASEDAT_DAYOFWEEK\n",
       "0    51\n",
       "1    46\n",
       "2    63\n",
       "3    67\n",
       "4    57\n",
       "5    44\n",
       "6    45\n",
       "dtype: int64"
      ]
     },
     "execution_count": 73,
     "metadata": {},
     "output_type": "execute_result"
    }
   ],
   "source": [
    "train.groupby('PURCHASEDAT_DAYOFWEEK').size()"
   ]
  },
  {
   "cell_type": "code",
   "execution_count": 77,
   "metadata": {},
   "outputs": [
    {
     "data": {
      "text/plain": [
       "PURCHASEDAT_DAY\n",
       "1      9\n",
       "2     24\n",
       "3     14\n",
       "4     14\n",
       "5     13\n",
       "6     16\n",
       "7     10\n",
       "8     13\n",
       "9     10\n",
       "10     7\n",
       "11    11\n",
       "12    14\n",
       "13    10\n",
       "14    14\n",
       "15    12\n",
       "16     7\n",
       "17     9\n",
       "18    12\n",
       "19    16\n",
       "20    10\n",
       "21    13\n",
       "22    11\n",
       "23    15\n",
       "24     9\n",
       "25     8\n",
       "26     9\n",
       "27    14\n",
       "28    12\n",
       "29    17\n",
       "30    12\n",
       "31     8\n",
       "dtype: int64"
      ]
     },
     "execution_count": 77,
     "metadata": {},
     "output_type": "execute_result"
    }
   ],
   "source": [
    "train.groupby('PURCHASEDAT_DAY').size().sort_index()"
   ]
  },
  {
   "cell_type": "markdown",
   "metadata": {},
   "source": [
    "- Most of the purchases year were recorded in 2021 and 2022. This might due to the fact that the company was founded in 2021.\n",
    "- I will not be using this as a feature.\n",
    "- There seems to be a spike in number of months at the end of each quarter.\n",
    "- The rest of the purchases are quite well distributed throughout the days of the weeks.\n",
    "- Certain times of the year will tend to have a different impact in amount spent on expenditure and the type of expenditure.\n",
    "- I will investigate this further.\n",
    "- We also see a spike in purchases made in the first 9 days of the month."
   ]
  },
  {
   "cell_type": "markdown",
   "metadata": {},
   "source": [
    "I will create a new column 'PAID_AT'. This will represent the time of day the purchases were made.\n"
   ]
  },
  {
   "cell_type": "code",
   "execution_count": 78,
   "metadata": {},
   "outputs": [],
   "source": [
    "time_bins = [0, 6, 12, 18, 23]\n",
    "time_labels = ['night', 'morning', 'afternoon', 'evening']\n",
    "train['PAID_AT'] = pd.cut(train['PURCHASEDAT_HOUR'], bins=time_bins, labels=time_labels, right=False)\n",
    "train['PAID_AT'] = train['PAID_AT'].astype('object') # ensure this is an object column"
   ]
  },
  {
   "cell_type": "code",
   "execution_count": 79,
   "metadata": {},
   "outputs": [
    {
     "data": {
      "text/plain": [
       "PAID_AT\n",
       "afternoon    158\n",
       "evening       35\n",
       "morning      154\n",
       "night         26\n",
       "dtype: int64"
      ]
     },
     "execution_count": 79,
     "metadata": {},
     "output_type": "execute_result"
    }
   ],
   "source": [
    "train.groupby('PAID_AT').size()"
   ]
  },
  {
   "cell_type": "markdown",
   "metadata": {},
   "source": [
    "Most of the purchases have been made in the afternoon and in the morning.   \n",
    "We'll to explore of this later on."
   ]
  },
  {
   "cell_type": "markdown",
   "metadata": {},
   "source": [
    "### EDA For Classification"
   ]
  },
  {
   "cell_type": "markdown",
   "metadata": {},
   "source": [
    "1) Box Plots  \n",
    "- Leveraging the graphical representation of box plots to better   \n",
    "understand the locality, spread and skewness of the groups of numerical data through their quantiles.\n"
   ]
  },
  {
   "cell_type": "code",
   "execution_count": 80,
   "metadata": {},
   "outputs": [
    {
     "data": {
      "image/png": "[encoded data removed]",
      "text/plain": [
       "<Figure size 720x432 with 1 Axes>"
      ]
     },
     "metadata": {},
     "output_type": "display_data"
    },
    {
     "data": {
      "image/png": "[encoded data removed]",
      "text/plain": [
       "<Figure size 720x432 with 1 Axes>"
      ]
     },
     "metadata": {},
     "output_type": "display_data"
    },
    {
     "data": {
      "image/png": "[encoded data removed]",
      "text/plain": [
       "<Figure size 720x432 with 1 Axes>"
      ]
     },
     "metadata": {},
     "output_type": "display_data"
    }
   ],
   "source": [
    "numeric_columns = ['PURCHASE_VALUE', 'USER_INCOME', 'USER_HOUSEHOLD']\n",
    "\n",
    "def plot_box(train, cols, col_x = 'MERCHANT_CATEGORIZED_AS'):\n",
    "    for col in cols:\n",
    "        plt.figure(figsize=(10, 6))\n",
    "        sns.set_style(\"whitegrid\")\n",
    "        sns.boxplot(col_x, col, data=train)\n",
    "        plt.xlabel(col_x)\n",
    "        plt.ylabel(col)\n",
    "        plt.tick_params(axis='x', rotation=90)\n",
    "        plt.show()\n",
    "\n",
    "plot_box(train, numeric_columns)"
   ]
  },
  {
   "cell_type": "markdown",
   "metadata": {},
   "source": [
    "#### Take-aways from our box plots:"
   ]
  },
  {
   "cell_type": "markdown",
   "metadata": {},
   "source": [
    "##### Violin plots\n",
    "- Violin plots can be considered as a combination of the box plots and the kernel density plots.\n",
    "- Violin plots gain an advantage over plain box plots by the fact that despite showing the median, interquartile range it also shows the entire distribution of the data.\n"
   ]
  },
  {
   "cell_type": "code",
   "execution_count": 81,
   "metadata": {},
   "outputs": [
    {
     "data": {
      "image/png": "[encoded data removed]",
      "text/plain": [
       "<Figure size 720x288 with 1 Axes>"
      ]
     },
     "metadata": {},
     "output_type": "display_data"
    },
    {
     "data": {
      "image/png": "[encoded data removed]",
      "text/plain": [
       "<Figure size 720x288 with 1 Axes>"
      ]
     },
     "metadata": {},
     "output_type": "display_data"
    },
    {
     "data": {
      "image/png": "[encoded data removed]",
      "text/plain": [
       "<Figure size 720x288 with 1 Axes>"
      ]
     },
     "metadata": {},
     "output_type": "display_data"
    }
   ],
   "source": [
    "def plot_violin(train, cols, col_x='MERCHANT_CATEGORIZED_AS'):\n",
    "    for col in cols:\n",
    "        plt.figure(figsize=(10, 4))\n",
    "        sns.set_style(\"whitegrid\")\n",
    "        sns.violinplot(col_x, col, data=train, hue='USER_GENDER')\n",
    "        plt.xlabel(col_x)\n",
    "        plt.tick_params(axis='x', rotation=90)\n",
    "        plt.ylabel(col)\n",
    "        plt.show()\n",
    "\n",
    "plot_violin(train, numeric_columns)"
   ]
  },
  {
   "cell_type": "markdown",
   "metadata": {},
   "source": [
    "- By separating the plots by gender, we get to see the difference in purchases made by gender.  \n",
    "- The overall shapes and distribution for 'user income' and 'purchase value' differs with more outliers  in the case of males.\n",
    "- The overall shape and distribution of the tips for the 'user household' remain similar with the exception of 'Emergency Fund'.   \n",
    "\n",
    "  Outliers appear to be distributed evenly.  \n",
    "- Gender seems to be a major feature. "
   ]
  },
  {
   "cell_type": "markdown",
   "metadata": {},
   "source": [
    "### class separation by categorical columns\n",
    "- We'll use frequency tables for this."
   ]
  },
  {
   "cell_type": "code",
   "execution_count": 82,
   "metadata": {},
   "outputs": [
    {
     "name": "stdout",
     "output_type": "stream",
     "text": [
      "\n",
      "For column MERCHANT_NAME\n",
      "SAFARICOM OFFERS  TUNUKIWA      14\n",
      "M-SHWARI ACCOUNT                12\n",
      "SAFARICOM LIMITED               10\n",
      "PETER KENDA                     10\n",
      "KPLC PREPAID                     8\n",
      "                                ..\n",
      "DENIS OCHIENG OTIENO             1\n",
      "NELLY BIKUNDO                    1\n",
      "JAVA AGAKHAN MAIN                1\n",
      "KRA - NAIROBI COUNTY REVENUE     1\n",
      "LILIAN OTIENO                    1\n",
      "Name: MERCHANT_NAME, Length: 218, dtype: int64\n",
      "\n",
      "For column PURCHASED_AT\n",
      "2021-10-22 15:49:00+00:00    2\n",
      "2021-08-04 15:03:00+00:00    2\n",
      "2021-01-15 15:40:00+00:00    2\n",
      "2021-08-24 14:53:00+00:00    2\n",
      "2021-10-11 17:12:00+00:00    2\n",
      "                            ..\n",
      "2022-05-31 14:57:00+00:00    1\n",
      "2022-05-04 13:42:00+00:00    1\n",
      "2021-09-27 11:18:00+00:00    1\n",
      "2021-09-21 10:13:00+00:00    1\n",
      "2021-11-24 10:23:00+00:00    1\n",
      "Name: PURCHASED_AT, Length: 365, dtype: int64\n",
      "\n",
      "For column IS_PURCHASE_PAID_VIA_MPESA_SEND_MONEY\n",
      "False    203\n",
      "True     170\n",
      "Name: IS_PURCHASE_PAID_VIA_MPESA_SEND_MONEY, dtype: int64\n"
     ]
    }
   ],
   "source": [
    "def count_unique(train, cols):\n",
    "    for col in cols:\n",
    "        print('\\n' + 'For column ' + col)\n",
    "        print(train[col].value_counts())\n",
    "\n",
    "cat_cols = ['MERCHANT_NAME', 'PURCHASED_AT', 'IS_PURCHASE_PAID_VIA_MPESA_SEND_MONEY']\n",
    "count_unique(train, cat_cols)"
   ]
  },
  {
   "cell_type": "code",
   "execution_count": 83,
   "metadata": {},
   "outputs": [
    {
     "name": "stdout",
     "output_type": "stream",
     "text": [
      "Bills & Fees        78\n",
      "Groceries           50\n",
      "Miscellaneous       43\n",
      "Data & WiFi         43\n",
      "Family & Friends    41\n",
      "Going out           41\n",
      "Transport & Fuel    29\n",
      "Shopping            21\n",
      "Emergency fund      12\n",
      "Health               6\n",
      "Loan Repayment       5\n",
      "Education            2\n",
      "Rent / Mortgage      2\n",
      "Name: MERCHANT_CATEGORIZED_AS, dtype: int64\n"
     ]
    }
   ],
   "source": [
    "# let's look at the class imbalance on our dataset\n",
    "merch_counts = train['MERCHANT_CATEGORIZED_AS'].value_counts()\n",
    "print(merch_counts)"
   ]
  },
  {
   "cell_type": "markdown",
   "metadata": {},
   "source": [
    "Using a count plot, we'll get to see the relationship between time of day at which the purchases are made and the Merchant category."
   ]
  },
  {
   "cell_type": "code",
   "execution_count": 90,
   "metadata": {},
   "outputs": [
    {
     "data": {
      "image/png": "[encoded data removed]",
      "text/plain": [
       "<Figure size 936x360 with 1 Axes>"
      ]
     },
     "metadata": {},
     "output_type": "display_data"
    }
   ],
   "source": [
    "plt.figure(figsize=(13, 5))\n",
    "sns.countplot(x='MERCHANT_CATEGORIZED_AS', hue='PAID_AT', data=train)\n",
    "plt.tick_params(axis='x', rotation=90)\n",
    "plt.show()"
   ]
  },
  {
   "cell_type": "markdown",
   "metadata": {},
   "source": [
    "##### 2) Data Preparation"
   ]
  },
  {
   "cell_type": "code",
   "execution_count": 91,
   "metadata": {},
   "outputs": [
    {
     "name": "stdout",
     "output_type": "stream",
     "text": [
      "(373, 20)\n",
      "(373,)\n"
     ]
    }
   ],
   "source": [
    "# 1) Duplicates - there are no duplicates\n",
    "print(train.shape)\n",
    "print(train['Transaction_ID'].unique().shape)"
   ]
  },
  {
   "cell_type": "markdown",
   "metadata": {},
   "source": [
    "- The 'PURCHASE_VALUE' column will need to be scaled due to the high variance of the data."
   ]
  },
  {
   "cell_type": "markdown",
   "metadata": {},
   "source": [
    "- USER_AGE  \n",
    "The 'USER_AGE' is highly imbalanced. With 350 of the users being 25 and a mere 2 being > 30.   \n",
    "The age range is also small (25 - 32) so creating a categorical column representing the respective age groups wouldn't make sense.    \n",
    "The code below recoded the 'USER_AGE' column into fewer categories (just 2 in this case)."
   ]
  },
  {
   "cell_type": "code",
   "execution_count": 92,
   "metadata": {},
   "outputs": [
    {
     "data": {
      "text/plain": [
       "25     350\n",
       ">25     23\n",
       "Name: USER_AGE, dtype: int64"
      ]
     },
     "execution_count": 92,
     "metadata": {},
     "output_type": "execute_result"
    }
   ],
   "source": [
    "age_categories = {25.: '25', 27.:'>25', 26.:'>25', 32.:'>25'}\n",
    "train['USER_AGE'] = [age_categories[x] for x in train['USER_AGE']]\n",
    "train['USER_AGE'].value_counts()"
   ]
  },
  {
   "cell_type": "markdown",
   "metadata": {},
   "source": [
    "### Let's look at the spending values of a large household vs smaller household, say only one member."
   ]
  },
  {
   "cell_type": "code",
   "execution_count": 96,
   "metadata": {},
   "outputs": [
    {
     "data": {
      "text/html": [
       "<div>\n",
       "<style scoped>\n",
       "    .dataframe tbody tr th:only-of-type {\n",
       "        vertical-align: middle;\n",
       "    }\n",
       "\n",
       "    .dataframe tbody tr th {\n",
       "        vertical-align: top;\n",
       "    }\n",
       "\n",
       "    .dataframe thead th {\n",
       "        text-align: right;\n",
       "    }\n",
       "</style>\n",
       "<table border=\"1\" class=\"dataframe\">\n",
       "  <thead>\n",
       "    <tr style=\"text-align: right;\">\n",
       "      <th></th>\n",
       "      <th>MERCHANT_CATEGORIZED_AT</th>\n",
       "      <th>MERCHANT_NAME</th>\n",
       "      <th>MERCHANT_CATEGORIZED_AS</th>\n",
       "      <th>PURCHASE_VALUE</th>\n",
       "      <th>PURCHASED_AT</th>\n",
       "      <th>IS_PURCHASE_PAID_VIA_MPESA_SEND_MONEY</th>\n",
       "      <th>USER_AGE</th>\n",
       "      <th>USER_GENDER</th>\n",
       "      <th>USER_HOUSEHOLD</th>\n",
       "      <th>USER_INCOME</th>\n",
       "      <th>USER_ID</th>\n",
       "      <th>Transaction_ID</th>\n",
       "      <th>PURCHASEDAT_YEAR</th>\n",
       "      <th>PURCHASEDAT_MONTH</th>\n",
       "      <th>PURCHASEDAT_WEEK</th>\n",
       "      <th>PURCHASEDAT_DAY</th>\n",
       "      <th>PURCHASEDAT_HOUR</th>\n",
       "      <th>PURCHASEDAT_MINUTE</th>\n",
       "      <th>PURCHASEDAT_DAYOFWEEK</th>\n",
       "      <th>PAID_AT</th>\n",
       "    </tr>\n",
       "  </thead>\n",
       "  <tbody>\n",
       "    <tr>\n",
       "      <th>10</th>\n",
       "      <td>2022-03-16 13:08:19.703288+00:00</td>\n",
       "      <td>THREE BINS SERVICES</td>\n",
       "      <td>Bills &amp; Fees</td>\n",
       "      <td>500</td>\n",
       "      <td>2021-09-06 07:47:00+00:00</td>\n",
       "      <td>False</td>\n",
       "      <td>25</td>\n",
       "      <td>Female</td>\n",
       "      <td>1</td>\n",
       "      <td>85000</td>\n",
       "      <td>ID_1I8XYBWK</td>\n",
       "      <td>ID_16ubf02u</td>\n",
       "      <td>2021</td>\n",
       "      <td>9</td>\n",
       "      <td>36</td>\n",
       "      <td>6</td>\n",
       "      <td>7</td>\n",
       "      <td>47</td>\n",
       "      <td>0</td>\n",
       "      <td>morning</td>\n",
       "    </tr>\n",
       "    <tr>\n",
       "      <th>12</th>\n",
       "      <td>2022-06-01 10:23:56.426780+00:00</td>\n",
       "      <td>ELIZABETH NYAMBURA</td>\n",
       "      <td>Groceries</td>\n",
       "      <td>300</td>\n",
       "      <td>2021-06-17 11:17:00+00:00</td>\n",
       "      <td>True</td>\n",
       "      <td>25</td>\n",
       "      <td>Female</td>\n",
       "      <td>1</td>\n",
       "      <td>85000</td>\n",
       "      <td>ID_1I8XYBWK</td>\n",
       "      <td>ID_1dzb2jew</td>\n",
       "      <td>2021</td>\n",
       "      <td>6</td>\n",
       "      <td>24</td>\n",
       "      <td>17</td>\n",
       "      <td>11</td>\n",
       "      <td>17</td>\n",
       "      <td>3</td>\n",
       "      <td>morning</td>\n",
       "    </tr>\n",
       "    <tr>\n",
       "      <th>14</th>\n",
       "      <td>2022-03-16 13:08:19.703288+00:00</td>\n",
       "      <td>GARIDON ENTERPRISES VIA CO-OP</td>\n",
       "      <td>Groceries</td>\n",
       "      <td>4090</td>\n",
       "      <td>2020-12-28 13:29:00+00:00</td>\n",
       "      <td>False</td>\n",
       "      <td>25</td>\n",
       "      <td>Female</td>\n",
       "      <td>1</td>\n",
       "      <td>250000</td>\n",
       "      <td>ID_OZANC6XT</td>\n",
       "      <td>ID_1i4muuzs</td>\n",
       "      <td>2020</td>\n",
       "      <td>12</td>\n",
       "      <td>53</td>\n",
       "      <td>28</td>\n",
       "      <td>13</td>\n",
       "      <td>29</td>\n",
       "      <td>0</td>\n",
       "      <td>afternoon</td>\n",
       "    </tr>\n",
       "    <tr>\n",
       "      <th>15</th>\n",
       "      <td>2022-03-16 13:05:51.851102+00:00</td>\n",
       "      <td>KPLC PREPAID</td>\n",
       "      <td>Bills &amp; Fees</td>\n",
       "      <td>1000</td>\n",
       "      <td>2022-03-11 06:49:00+00:00</td>\n",
       "      <td>True</td>\n",
       "      <td>25</td>\n",
       "      <td>Male</td>\n",
       "      <td>1</td>\n",
       "      <td>200000</td>\n",
       "      <td>ID_5Y35KI6Q</td>\n",
       "      <td>ID_1kmitbhe</td>\n",
       "      <td>2022</td>\n",
       "      <td>3</td>\n",
       "      <td>10</td>\n",
       "      <td>11</td>\n",
       "      <td>6</td>\n",
       "      <td>49</td>\n",
       "      <td>4</td>\n",
       "      <td>morning</td>\n",
       "    </tr>\n",
       "    <tr>\n",
       "      <th>17</th>\n",
       "      <td>2022-03-10 18:25:42.112294+00:00</td>\n",
       "      <td>ELIZABETH NYAMBURA</td>\n",
       "      <td>Groceries</td>\n",
       "      <td>250</td>\n",
       "      <td>2021-11-04 11:18:00+00:00</td>\n",
       "      <td>True</td>\n",
       "      <td>25</td>\n",
       "      <td>Female</td>\n",
       "      <td>1</td>\n",
       "      <td>85000</td>\n",
       "      <td>ID_1I8XYBWK</td>\n",
       "      <td>ID_1ti3qcr4</td>\n",
       "      <td>2021</td>\n",
       "      <td>11</td>\n",
       "      <td>44</td>\n",
       "      <td>4</td>\n",
       "      <td>11</td>\n",
       "      <td>18</td>\n",
       "      <td>3</td>\n",
       "      <td>morning</td>\n",
       "    </tr>\n",
       "    <tr>\n",
       "      <th>...</th>\n",
       "      <td>...</td>\n",
       "      <td>...</td>\n",
       "      <td>...</td>\n",
       "      <td>...</td>\n",
       "      <td>...</td>\n",
       "      <td>...</td>\n",
       "      <td>...</td>\n",
       "      <td>...</td>\n",
       "      <td>...</td>\n",
       "      <td>...</td>\n",
       "      <td>...</td>\n",
       "      <td>...</td>\n",
       "      <td>...</td>\n",
       "      <td>...</td>\n",
       "      <td>...</td>\n",
       "      <td>...</td>\n",
       "      <td>...</td>\n",
       "      <td>...</td>\n",
       "      <td>...</td>\n",
       "      <td>...</td>\n",
       "    </tr>\n",
       "    <tr>\n",
       "      <th>356</th>\n",
       "      <td>2022-03-16 13:05:51.851102+00:00</td>\n",
       "      <td>JIMMIE WAIRIMU</td>\n",
       "      <td>Bills &amp; Fees</td>\n",
       "      <td>40000</td>\n",
       "      <td>2019-03-11 05:38:00+00:00</td>\n",
       "      <td>True</td>\n",
       "      <td>25</td>\n",
       "      <td>Female</td>\n",
       "      <td>1</td>\n",
       "      <td>10000</td>\n",
       "      <td>ID_40L9OTIM</td>\n",
       "      <td>ID_yg77gagk</td>\n",
       "      <td>2019</td>\n",
       "      <td>3</td>\n",
       "      <td>11</td>\n",
       "      <td>11</td>\n",
       "      <td>5</td>\n",
       "      <td>38</td>\n",
       "      <td>0</td>\n",
       "      <td>night</td>\n",
       "    </tr>\n",
       "    <tr>\n",
       "      <th>358</th>\n",
       "      <td>2022-05-31 13:27:24.704992+00:00</td>\n",
       "      <td>PETER KENDA</td>\n",
       "      <td>Miscellaneous</td>\n",
       "      <td>200</td>\n",
       "      <td>2020-05-29 08:09:00+00:00</td>\n",
       "      <td>True</td>\n",
       "      <td>25</td>\n",
       "      <td>Female</td>\n",
       "      <td>1</td>\n",
       "      <td>85000</td>\n",
       "      <td>ID_1I8XYBWK</td>\n",
       "      <td>ID_yoxevui4</td>\n",
       "      <td>2020</td>\n",
       "      <td>5</td>\n",
       "      <td>22</td>\n",
       "      <td>29</td>\n",
       "      <td>8</td>\n",
       "      <td>9</td>\n",
       "      <td>4</td>\n",
       "      <td>morning</td>\n",
       "    </tr>\n",
       "    <tr>\n",
       "      <th>361</th>\n",
       "      <td>2021-11-30 10:51:36.702996+00:00</td>\n",
       "      <td>MIRIAM  MUNGAI</td>\n",
       "      <td>Family &amp; Friends</td>\n",
       "      <td>1600</td>\n",
       "      <td>2021-06-11 18:25:00+00:00</td>\n",
       "      <td>True</td>\n",
       "      <td>25</td>\n",
       "      <td>Male</td>\n",
       "      <td>1</td>\n",
       "      <td>10000</td>\n",
       "      <td>ID_R4T8Q46J</td>\n",
       "      <td>ID_yxz5etfz</td>\n",
       "      <td>2021</td>\n",
       "      <td>6</td>\n",
       "      <td>23</td>\n",
       "      <td>11</td>\n",
       "      <td>18</td>\n",
       "      <td>25</td>\n",
       "      <td>4</td>\n",
       "      <td>evening</td>\n",
       "    </tr>\n",
       "    <tr>\n",
       "      <th>364</th>\n",
       "      <td>2022-05-31 13:27:24.704992+00:00</td>\n",
       "      <td>CHRISTINE OOKO</td>\n",
       "      <td>Emergency fund</td>\n",
       "      <td>1000</td>\n",
       "      <td>2022-05-03 07:23:00+00:00</td>\n",
       "      <td>True</td>\n",
       "      <td>25</td>\n",
       "      <td>Female</td>\n",
       "      <td>1</td>\n",
       "      <td>23000</td>\n",
       "      <td>ID_Y0386AT9</td>\n",
       "      <td>ID_zawrgrj7</td>\n",
       "      <td>2022</td>\n",
       "      <td>5</td>\n",
       "      <td>18</td>\n",
       "      <td>3</td>\n",
       "      <td>7</td>\n",
       "      <td>23</td>\n",
       "      <td>1</td>\n",
       "      <td>morning</td>\n",
       "    </tr>\n",
       "    <tr>\n",
       "      <th>367</th>\n",
       "      <td>2022-03-16 13:05:51.851102+00:00</td>\n",
       "      <td>NIMROD ZIRO</td>\n",
       "      <td>Family &amp; Friends</td>\n",
       "      <td>2000</td>\n",
       "      <td>2021-12-27 20:14:00+00:00</td>\n",
       "      <td>True</td>\n",
       "      <td>25</td>\n",
       "      <td>Female</td>\n",
       "      <td>1</td>\n",
       "      <td>250000</td>\n",
       "      <td>ID_OZANC6XT</td>\n",
       "      <td>ID_zh4nw2s0</td>\n",
       "      <td>2021</td>\n",
       "      <td>12</td>\n",
       "      <td>52</td>\n",
       "      <td>27</td>\n",
       "      <td>20</td>\n",
       "      <td>14</td>\n",
       "      <td>0</td>\n",
       "      <td>evening</td>\n",
       "    </tr>\n",
       "  </tbody>\n",
       "</table>\n",
       "<p>126 rows × 20 columns</p>\n",
       "</div>"
      ],
      "text/plain": [
       "             MERCHANT_CATEGORIZED_AT                  MERCHANT_NAME  \\\n",
       "10  2022-03-16 13:08:19.703288+00:00            THREE BINS SERVICES   \n",
       "12  2022-06-01 10:23:56.426780+00:00             ELIZABETH NYAMBURA   \n",
       "14  2022-03-16 13:08:19.703288+00:00  GARIDON ENTERPRISES VIA CO-OP   \n",
       "15  2022-03-16 13:05:51.851102+00:00                   KPLC PREPAID   \n",
       "17  2022-03-10 18:25:42.112294+00:00             ELIZABETH NYAMBURA   \n",
       "..                               ...                            ...   \n",
       "356 2022-03-16 13:05:51.851102+00:00                 JIMMIE WAIRIMU   \n",
       "358 2022-05-31 13:27:24.704992+00:00                    PETER KENDA   \n",
       "361 2021-11-30 10:51:36.702996+00:00                 MIRIAM  MUNGAI   \n",
       "364 2022-05-31 13:27:24.704992+00:00                 CHRISTINE OOKO   \n",
       "367 2022-03-16 13:05:51.851102+00:00                    NIMROD ZIRO   \n",
       "\n",
       "    MERCHANT_CATEGORIZED_AS  PURCHASE_VALUE              PURCHASED_AT  \\\n",
       "10             Bills & Fees             500 2021-09-06 07:47:00+00:00   \n",
       "12                Groceries             300 2021-06-17 11:17:00+00:00   \n",
       "14                Groceries            4090 2020-12-28 13:29:00+00:00   \n",
       "15             Bills & Fees            1000 2022-03-11 06:49:00+00:00   \n",
       "17                Groceries             250 2021-11-04 11:18:00+00:00   \n",
       "..                      ...             ...                       ...   \n",
       "356            Bills & Fees           40000 2019-03-11 05:38:00+00:00   \n",
       "358           Miscellaneous             200 2020-05-29 08:09:00+00:00   \n",
       "361        Family & Friends            1600 2021-06-11 18:25:00+00:00   \n",
       "364          Emergency fund            1000 2022-05-03 07:23:00+00:00   \n",
       "367        Family & Friends            2000 2021-12-27 20:14:00+00:00   \n",
       "\n",
       "     IS_PURCHASE_PAID_VIA_MPESA_SEND_MONEY USER_AGE USER_GENDER  \\\n",
       "10                                   False       25      Female   \n",
       "12                                    True       25      Female   \n",
       "14                                   False       25      Female   \n",
       "15                                    True       25        Male   \n",
       "17                                    True       25      Female   \n",
       "..                                     ...      ...         ...   \n",
       "356                                   True       25      Female   \n",
       "358                                   True       25      Female   \n",
       "361                                   True       25        Male   \n",
       "364                                   True       25      Female   \n",
       "367                                   True       25      Female   \n",
       "\n",
       "     USER_HOUSEHOLD  USER_INCOME      USER_ID Transaction_ID  \\\n",
       "10                1        85000  ID_1I8XYBWK    ID_16ubf02u   \n",
       "12                1        85000  ID_1I8XYBWK    ID_1dzb2jew   \n",
       "14                1       250000  ID_OZANC6XT    ID_1i4muuzs   \n",
       "15                1       200000  ID_5Y35KI6Q    ID_1kmitbhe   \n",
       "17                1        85000  ID_1I8XYBWK    ID_1ti3qcr4   \n",
       "..              ...          ...          ...            ...   \n",
       "356               1        10000  ID_40L9OTIM    ID_yg77gagk   \n",
       "358               1        85000  ID_1I8XYBWK    ID_yoxevui4   \n",
       "361               1        10000  ID_R4T8Q46J    ID_yxz5etfz   \n",
       "364               1        23000  ID_Y0386AT9    ID_zawrgrj7   \n",
       "367               1       250000  ID_OZANC6XT    ID_zh4nw2s0   \n",
       "\n",
       "     PURCHASEDAT_YEAR  PURCHASEDAT_MONTH  PURCHASEDAT_WEEK  PURCHASEDAT_DAY  \\\n",
       "10               2021                  9                36                6   \n",
       "12               2021                  6                24               17   \n",
       "14               2020                 12                53               28   \n",
       "15               2022                  3                10               11   \n",
       "17               2021                 11                44                4   \n",
       "..                ...                ...               ...              ...   \n",
       "356              2019                  3                11               11   \n",
       "358              2020                  5                22               29   \n",
       "361              2021                  6                23               11   \n",
       "364              2022                  5                18                3   \n",
       "367              2021                 12                52               27   \n",
       "\n",
       "     PURCHASEDAT_HOUR  PURCHASEDAT_MINUTE  PURCHASEDAT_DAYOFWEEK    PAID_AT  \n",
       "10                  7                  47                      0    morning  \n",
       "12                 11                  17                      3    morning  \n",
       "14                 13                  29                      0  afternoon  \n",
       "15                  6                  49                      4    morning  \n",
       "17                 11                  18                      3    morning  \n",
       "..                ...                 ...                    ...        ...  \n",
       "356                 5                  38                      0      night  \n",
       "358                 8                   9                      4    morning  \n",
       "361                18                  25                      4    evening  \n",
       "364                 7                  23                      1    morning  \n",
       "367                20                  14                      0    evening  \n",
       "\n",
       "[126 rows x 20 columns]"
      ]
     },
     "execution_count": 96,
     "metadata": {},
     "output_type": "execute_result"
    }
   ],
   "source": [
    "# Checking the entries of a small household\n",
    "train[train.loc[:, 'USER_HOUSEHOLD'] == 1]"
   ]
  },
  {
   "cell_type": "code",
   "execution_count": 98,
   "metadata": {},
   "outputs": [
    {
     "data": {
      "text/html": [
       "<div>\n",
       "<style scoped>\n",
       "    .dataframe tbody tr th:only-of-type {\n",
       "        vertical-align: middle;\n",
       "    }\n",
       "\n",
       "    .dataframe tbody tr th {\n",
       "        vertical-align: top;\n",
       "    }\n",
       "\n",
       "    .dataframe thead th {\n",
       "        text-align: right;\n",
       "    }\n",
       "</style>\n",
       "<table border=\"1\" class=\"dataframe\">\n",
       "  <thead>\n",
       "    <tr style=\"text-align: right;\">\n",
       "      <th></th>\n",
       "      <th>MERCHANT_CATEGORIZED_AT</th>\n",
       "      <th>MERCHANT_NAME</th>\n",
       "      <th>MERCHANT_CATEGORIZED_AS</th>\n",
       "      <th>PURCHASE_VALUE</th>\n",
       "      <th>PURCHASED_AT</th>\n",
       "      <th>IS_PURCHASE_PAID_VIA_MPESA_SEND_MONEY</th>\n",
       "      <th>USER_AGE</th>\n",
       "      <th>USER_GENDER</th>\n",
       "      <th>USER_HOUSEHOLD</th>\n",
       "      <th>USER_INCOME</th>\n",
       "      <th>USER_ID</th>\n",
       "      <th>Transaction_ID</th>\n",
       "      <th>PURCHASEDAT_YEAR</th>\n",
       "      <th>PURCHASEDAT_MONTH</th>\n",
       "      <th>PURCHASEDAT_WEEK</th>\n",
       "      <th>PURCHASEDAT_DAY</th>\n",
       "      <th>PURCHASEDAT_HOUR</th>\n",
       "      <th>PURCHASEDAT_MINUTE</th>\n",
       "      <th>PURCHASEDAT_DAYOFWEEK</th>\n",
       "      <th>PAID_AT</th>\n",
       "    </tr>\n",
       "  </thead>\n",
       "  <tbody>\n",
       "    <tr>\n",
       "      <th>69</th>\n",
       "      <td>2022-03-10 18:21:31.781487+00:00</td>\n",
       "      <td>QUICK MART FRESH N EASY BYPASS</td>\n",
       "      <td>Groceries</td>\n",
       "      <td>1636</td>\n",
       "      <td>2022-03-07 16:44:00+00:00</td>\n",
       "      <td>False</td>\n",
       "      <td>25</td>\n",
       "      <td>Male</td>\n",
       "      <td>7</td>\n",
       "      <td>350000</td>\n",
       "      <td>ID_3XJU0KQ9</td>\n",
       "      <td>ID_78wa1al6</td>\n",
       "      <td>2022</td>\n",
       "      <td>3</td>\n",
       "      <td>10</td>\n",
       "      <td>7</td>\n",
       "      <td>16</td>\n",
       "      <td>44</td>\n",
       "      <td>0</td>\n",
       "      <td>afternoon</td>\n",
       "    </tr>\n",
       "    <tr>\n",
       "      <th>76</th>\n",
       "      <td>2022-04-12 15:59:14.139347+00:00</td>\n",
       "      <td>LILIAN GICHU</td>\n",
       "      <td>Family &amp; Friends</td>\n",
       "      <td>500</td>\n",
       "      <td>2022-04-13 09:01:00+00:00</td>\n",
       "      <td>True</td>\n",
       "      <td>25</td>\n",
       "      <td>Male</td>\n",
       "      <td>7</td>\n",
       "      <td>350000</td>\n",
       "      <td>ID_3XJU0KQ9</td>\n",
       "      <td>ID_7xwf3l1i</td>\n",
       "      <td>2022</td>\n",
       "      <td>4</td>\n",
       "      <td>15</td>\n",
       "      <td>13</td>\n",
       "      <td>9</td>\n",
       "      <td>1</td>\n",
       "      <td>2</td>\n",
       "      <td>morning</td>\n",
       "    </tr>\n",
       "    <tr>\n",
       "      <th>104</th>\n",
       "      <td>2022-04-12 15:59:14.139347+00:00</td>\n",
       "      <td>BETH GICHU</td>\n",
       "      <td>Family &amp; Friends</td>\n",
       "      <td>1100</td>\n",
       "      <td>2022-04-09 00:22:00+00:00</td>\n",
       "      <td>True</td>\n",
       "      <td>25</td>\n",
       "      <td>Male</td>\n",
       "      <td>7</td>\n",
       "      <td>350000</td>\n",
       "      <td>ID_3XJU0KQ9</td>\n",
       "      <td>ID_9zg33ydi</td>\n",
       "      <td>2022</td>\n",
       "      <td>4</td>\n",
       "      <td>14</td>\n",
       "      <td>9</td>\n",
       "      <td>0</td>\n",
       "      <td>22</td>\n",
       "      <td>5</td>\n",
       "      <td>night</td>\n",
       "    </tr>\n",
       "    <tr>\n",
       "      <th>258</th>\n",
       "      <td>2022-04-12 15:59:14.139347+00:00</td>\n",
       "      <td>TELKOM KENYA LIMITED</td>\n",
       "      <td>Data &amp; WiFi</td>\n",
       "      <td>120</td>\n",
       "      <td>2022-04-12 06:19:00+00:00</td>\n",
       "      <td>True</td>\n",
       "      <td>25</td>\n",
       "      <td>Male</td>\n",
       "      <td>7</td>\n",
       "      <td>350000</td>\n",
       "      <td>ID_3XJU0KQ9</td>\n",
       "      <td>ID_ovv06kiq</td>\n",
       "      <td>2022</td>\n",
       "      <td>4</td>\n",
       "      <td>15</td>\n",
       "      <td>12</td>\n",
       "      <td>6</td>\n",
       "      <td>19</td>\n",
       "      <td>1</td>\n",
       "      <td>morning</td>\n",
       "    </tr>\n",
       "  </tbody>\n",
       "</table>\n",
       "</div>"
      ],
      "text/plain": [
       "             MERCHANT_CATEGORIZED_AT                   MERCHANT_NAME  \\\n",
       "69  2022-03-10 18:21:31.781487+00:00  QUICK MART FRESH N EASY BYPASS   \n",
       "76  2022-04-12 15:59:14.139347+00:00                    LILIAN GICHU   \n",
       "104 2022-04-12 15:59:14.139347+00:00                      BETH GICHU   \n",
       "258 2022-04-12 15:59:14.139347+00:00            TELKOM KENYA LIMITED   \n",
       "\n",
       "    MERCHANT_CATEGORIZED_AS  PURCHASE_VALUE              PURCHASED_AT  \\\n",
       "69                Groceries            1636 2022-03-07 16:44:00+00:00   \n",
       "76         Family & Friends             500 2022-04-13 09:01:00+00:00   \n",
       "104        Family & Friends            1100 2022-04-09 00:22:00+00:00   \n",
       "258             Data & WiFi             120 2022-04-12 06:19:00+00:00   \n",
       "\n",
       "     IS_PURCHASE_PAID_VIA_MPESA_SEND_MONEY USER_AGE USER_GENDER  \\\n",
       "69                                   False       25        Male   \n",
       "76                                    True       25        Male   \n",
       "104                                   True       25        Male   \n",
       "258                                   True       25        Male   \n",
       "\n",
       "     USER_HOUSEHOLD  USER_INCOME      USER_ID Transaction_ID  \\\n",
       "69                7       350000  ID_3XJU0KQ9    ID_78wa1al6   \n",
       "76                7       350000  ID_3XJU0KQ9    ID_7xwf3l1i   \n",
       "104               7       350000  ID_3XJU0KQ9    ID_9zg33ydi   \n",
       "258               7       350000  ID_3XJU0KQ9    ID_ovv06kiq   \n",
       "\n",
       "     PURCHASEDAT_YEAR  PURCHASEDAT_MONTH  PURCHASEDAT_WEEK  PURCHASEDAT_DAY  \\\n",
       "69               2022                  3                10                7   \n",
       "76               2022                  4                15               13   \n",
       "104              2022                  4                14                9   \n",
       "258              2022                  4                15               12   \n",
       "\n",
       "     PURCHASEDAT_HOUR  PURCHASEDAT_MINUTE  PURCHASEDAT_DAYOFWEEK    PAID_AT  \n",
       "69                 16                  44                      0  afternoon  \n",
       "76                  9                   1                      2    morning  \n",
       "104                 0                  22                      5      night  \n",
       "258                 6                  19                      1    morning  "
      ]
     },
     "execution_count": 98,
     "metadata": {},
     "output_type": "execute_result"
    }
   ],
   "source": [
    "# entries for a larger household\n",
    "train[train.loc[:, 'USER_HOUSEHOLD'] == 7]"
   ]
  },
  {
   "cell_type": "markdown",
   "metadata": {},
   "source": [
    "### Creating 10 folds for training and saving our new data to csv"
   ]
  },
  {
   "cell_type": "code",
   "execution_count": 113,
   "metadata": {},
   "outputs": [],
   "source": [
    "train['kfold'] = -1"
   ]
  },
  {
   "cell_type": "code",
   "execution_count": 114,
   "metadata": {},
   "outputs": [],
   "source": [
    "# creating folds\n",
    "kf = KFold(n_splits=10, shuffle=True, random_state=3456)\n",
    "for fold, (train_index, valid_index) in enumerate(kf.split(X=train)):\n",
    "    train.loc[valid_index, 'kfold'] = fold"
   ]
  },
  {
   "cell_type": "code",
   "execution_count": 115,
   "metadata": {},
   "outputs": [
    {
     "data": {
      "text/html": [
       "<div>\n",
       "<style scoped>\n",
       "    .dataframe tbody tr th:only-of-type {\n",
       "        vertical-align: middle;\n",
       "    }\n",
       "\n",
       "    .dataframe tbody tr th {\n",
       "        vertical-align: top;\n",
       "    }\n",
       "\n",
       "    .dataframe thead th {\n",
       "        text-align: right;\n",
       "    }\n",
       "</style>\n",
       "<table border=\"1\" class=\"dataframe\">\n",
       "  <thead>\n",
       "    <tr style=\"text-align: right;\">\n",
       "      <th></th>\n",
       "      <th>MERCHANT_CATEGORIZED_AT</th>\n",
       "      <th>MERCHANT_NAME</th>\n",
       "      <th>MERCHANT_CATEGORIZED_AS</th>\n",
       "      <th>PURCHASE_VALUE</th>\n",
       "      <th>PURCHASED_AT</th>\n",
       "      <th>IS_PURCHASE_PAID_VIA_MPESA_SEND_MONEY</th>\n",
       "      <th>USER_AGE</th>\n",
       "      <th>USER_GENDER</th>\n",
       "      <th>USER_HOUSEHOLD</th>\n",
       "      <th>USER_INCOME</th>\n",
       "      <th>...</th>\n",
       "      <th>Transaction_ID</th>\n",
       "      <th>PURCHASEDAT_YEAR</th>\n",
       "      <th>PURCHASEDAT_MONTH</th>\n",
       "      <th>PURCHASEDAT_WEEK</th>\n",
       "      <th>PURCHASEDAT_DAY</th>\n",
       "      <th>PURCHASEDAT_HOUR</th>\n",
       "      <th>PURCHASEDAT_MINUTE</th>\n",
       "      <th>PURCHASEDAT_DAYOFWEEK</th>\n",
       "      <th>PAID_AT</th>\n",
       "      <th>kfold</th>\n",
       "    </tr>\n",
       "  </thead>\n",
       "  <tbody>\n",
       "    <tr>\n",
       "      <th>0</th>\n",
       "      <td>2022-05-04 10:25:50.588042+00:00</td>\n",
       "      <td>UONSDA CHURCH  MOGERE MWAYO TITHE</td>\n",
       "      <td>Rent / Mortgage</td>\n",
       "      <td>1700</td>\n",
       "      <td>2022-05-04 13:56:00+00:00</td>\n",
       "      <td>False</td>\n",
       "      <td>25</td>\n",
       "      <td>Male</td>\n",
       "      <td>3</td>\n",
       "      <td>10000</td>\n",
       "      <td>...</td>\n",
       "      <td>ID_04mk78fa</td>\n",
       "      <td>2022</td>\n",
       "      <td>5</td>\n",
       "      <td>18</td>\n",
       "      <td>4</td>\n",
       "      <td>13</td>\n",
       "      <td>56</td>\n",
       "      <td>2</td>\n",
       "      <td>afternoon</td>\n",
       "      <td>1</td>\n",
       "    </tr>\n",
       "    <tr>\n",
       "      <th>1</th>\n",
       "      <td>2021-10-25 16:18:38.586837+00:00</td>\n",
       "      <td>PARK N GO</td>\n",
       "      <td>Transport &amp; Fuel</td>\n",
       "      <td>100</td>\n",
       "      <td>2021-10-24 14:12:00+00:00</td>\n",
       "      <td>False</td>\n",
       "      <td>25</td>\n",
       "      <td>Female</td>\n",
       "      <td>4</td>\n",
       "      <td>90000</td>\n",
       "      <td>...</td>\n",
       "      <td>ID_04xkfb07</td>\n",
       "      <td>2021</td>\n",
       "      <td>10</td>\n",
       "      <td>42</td>\n",
       "      <td>24</td>\n",
       "      <td>14</td>\n",
       "      <td>12</td>\n",
       "      <td>6</td>\n",
       "      <td>afternoon</td>\n",
       "      <td>9</td>\n",
       "    </tr>\n",
       "  </tbody>\n",
       "</table>\n",
       "<p>2 rows × 21 columns</p>\n",
       "</div>"
      ],
      "text/plain": [
       "           MERCHANT_CATEGORIZED_AT                      MERCHANT_NAME  \\\n",
       "0 2022-05-04 10:25:50.588042+00:00  UONSDA CHURCH  MOGERE MWAYO TITHE   \n",
       "1 2021-10-25 16:18:38.586837+00:00                          PARK N GO   \n",
       "\n",
       "  MERCHANT_CATEGORIZED_AS  PURCHASE_VALUE              PURCHASED_AT  \\\n",
       "0         Rent / Mortgage            1700 2022-05-04 13:56:00+00:00   \n",
       "1        Transport & Fuel             100 2021-10-24 14:12:00+00:00   \n",
       "\n",
       "   IS_PURCHASE_PAID_VIA_MPESA_SEND_MONEY USER_AGE USER_GENDER  USER_HOUSEHOLD  \\\n",
       "0                                  False       25        Male               3   \n",
       "1                                  False       25      Female               4   \n",
       "\n",
       "   USER_INCOME  ... Transaction_ID PURCHASEDAT_YEAR  PURCHASEDAT_MONTH  \\\n",
       "0        10000  ...    ID_04mk78fa             2022                  5   \n",
       "1        90000  ...    ID_04xkfb07             2021                 10   \n",
       "\n",
       "   PURCHASEDAT_WEEK  PURCHASEDAT_DAY  PURCHASEDAT_HOUR  PURCHASEDAT_MINUTE  \\\n",
       "0                18                4                13                  56   \n",
       "1                42               24                14                  12   \n",
       "\n",
       "   PURCHASEDAT_DAYOFWEEK    PAID_AT kfold  \n",
       "0                      2  afternoon     1  \n",
       "1                      6  afternoon     9  \n",
       "\n",
       "[2 rows x 21 columns]"
      ]
     },
     "execution_count": 115,
     "metadata": {},
     "output_type": "execute_result"
    }
   ],
   "source": [
    "train.head(2)"
   ]
  },
  {
   "cell_type": "markdown",
   "metadata": {},
   "source": [
    "#### Dropping columns we won't use in training before saving our data.\n",
    "We've created our training folds.\n",
    "Some of our columns aren't useful and won't improve our scores.\n",
    "We'll drop the PURCHASEDAT_YEAR, PURCHASEDAT_WEEK "
   ]
  },
  {
   "cell_type": "code",
   "execution_count": 116,
   "metadata": {},
   "outputs": [
    {
     "data": {
      "text/plain": [
       "(373, 19)"
      ]
     },
     "execution_count": 116,
     "metadata": {},
     "output_type": "execute_result"
    }
   ],
   "source": [
    "drop_columns = ['PURCHASEDAT_YEAR', 'PURCHASEDAT_WEEK']\n",
    "train.drop(drop_columns, axis=1, inplace=True)\n",
    "train.shape"
   ]
  },
  {
   "cell_type": "code",
   "execution_count": 117,
   "metadata": {},
   "outputs": [],
   "source": [
    "train.to_csv('./data/train_folds.csv', header=False)"
   ]
  }
 ],
 "metadata": {
  "kernelspec": {
   "display_name": "Python 3.8.5 ('base')",
   "language": "python",
   "name": "python3"
  },
  "language_info": {
   "codemirror_mode": {
    "name": "ipython",
    "version": 3
   },
   "file_extension": ".py",
   "mimetype": "text/x-python",
   "name": "python",
   "nbconvert_exporter": "python",
   "pygments_lexer": "ipython3",
   "version": "3.8.5"
  },
  "orig_nbformat": 4,
  "vscode": {
   "interpreter": {
    "hash": "8419eec2978427b8674b3c4d9ff082f3a736a9371089132db9f1280a89064118"
   }
  }
 },
 "nbformat": 4,
 "nbformat_minor": 2
}
