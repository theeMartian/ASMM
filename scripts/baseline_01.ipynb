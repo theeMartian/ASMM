{
 "cells": [
  {
   "cell_type": "code",
   "execution_count": 1,
   "metadata": {},
   "outputs": [],
   "source": [
    "import pandas as pd\n",
    "import numpy as np\n",
    "\n",
    "# sklearn\n",
    "from sklearn import metrics\n",
    "from sklearn.preprocessing import OrdinalEncoder, LabelEncoder, StandardScaler\n",
    "from sklearn.ensemble import RandomForestClassifier\n",
    "from sklearn.neighbors import KNeighborsClassifier\n",
    "from sklearn.model_selection import train_test_split, KFold\n",
    "\n",
    "import warnings\n",
    "warnings.filterwarnings('ignore')"
   ]
  },
  {
   "cell_type": "markdown",
   "metadata": {},
   "source": [
    "#### Using original Train data"
   ]
  },
  {
   "cell_type": "code",
   "execution_count": 5,
   "metadata": {},
   "outputs": [
    {
     "data": {
      "text/html": [
       "<div>\n",
       "<style scoped>\n",
       "    .dataframe tbody tr th:only-of-type {\n",
       "        vertical-align: middle;\n",
       "    }\n",
       "\n",
       "    .dataframe tbody tr th {\n",
       "        vertical-align: top;\n",
       "    }\n",
       "\n",
       "    .dataframe thead th {\n",
       "        text-align: right;\n",
       "    }\n",
       "</style>\n",
       "<table border=\"1\" class=\"dataframe\">\n",
       "  <thead>\n",
       "    <tr style=\"text-align: right;\">\n",
       "      <th></th>\n",
       "      <th>MERCHANT_CATEGORIZED_AT</th>\n",
       "      <th>MERCHANT_NAME</th>\n",
       "      <th>MERCHANT_CATEGORIZED_AS</th>\n",
       "      <th>PURCHASE_VALUE</th>\n",
       "      <th>PURCHASED_AT</th>\n",
       "      <th>IS_PURCHASE_PAID_VIA_MPESA_SEND_MONEY</th>\n",
       "      <th>USER_AGE</th>\n",
       "      <th>USER_GENDER</th>\n",
       "      <th>USER_HOUSEHOLD</th>\n",
       "      <th>USER_INCOME</th>\n",
       "      <th>USER_ID</th>\n",
       "      <th>Transaction_ID</th>\n",
       "    </tr>\n",
       "  </thead>\n",
       "  <tbody>\n",
       "    <tr>\n",
       "      <th>0</th>\n",
       "      <td>2022-05-04 10:25:50.588042+00</td>\n",
       "      <td>UONSDA CHURCH  MOGERE MWAYO TITHE</td>\n",
       "      <td>Rent / Mortgage</td>\n",
       "      <td>1700</td>\n",
       "      <td>2022-05-04 13:56:00+00</td>\n",
       "      <td>False</td>\n",
       "      <td>NaN</td>\n",
       "      <td>Male</td>\n",
       "      <td>3</td>\n",
       "      <td>10000</td>\n",
       "      <td>ID_ZX4DCF4K</td>\n",
       "      <td>ID_04mk78fa</td>\n",
       "    </tr>\n",
       "    <tr>\n",
       "      <th>1</th>\n",
       "      <td>2021-10-25 16:18:38.586837+00</td>\n",
       "      <td>PARK N GO</td>\n",
       "      <td>Transport &amp; Fuel</td>\n",
       "      <td>100</td>\n",
       "      <td>2021-10-24 14:12:00+00</td>\n",
       "      <td>False</td>\n",
       "      <td>25.0</td>\n",
       "      <td>Female</td>\n",
       "      <td>4</td>\n",
       "      <td>90000</td>\n",
       "      <td>ID_U9WZMGJZ</td>\n",
       "      <td>ID_04xkfb07</td>\n",
       "    </tr>\n",
       "  </tbody>\n",
       "</table>\n",
       "</div>"
      ],
      "text/plain": [
       "         MERCHANT_CATEGORIZED_AT                      MERCHANT_NAME  \\\n",
       "0  2022-05-04 10:25:50.588042+00  UONSDA CHURCH  MOGERE MWAYO TITHE   \n",
       "1  2021-10-25 16:18:38.586837+00                          PARK N GO   \n",
       "\n",
       "  MERCHANT_CATEGORIZED_AS  PURCHASE_VALUE            PURCHASED_AT  \\\n",
       "0         Rent / Mortgage            1700  2022-05-04 13:56:00+00   \n",
       "1        Transport & Fuel             100  2021-10-24 14:12:00+00   \n",
       "\n",
       "   IS_PURCHASE_PAID_VIA_MPESA_SEND_MONEY  USER_AGE USER_GENDER  \\\n",
       "0                                  False       NaN        Male   \n",
       "1                                  False      25.0      Female   \n",
       "\n",
       "   USER_HOUSEHOLD  USER_INCOME      USER_ID Transaction_ID  \n",
       "0               3        10000  ID_ZX4DCF4K    ID_04mk78fa  \n",
       "1               4        90000  ID_U9WZMGJZ    ID_04xkfb07  "
      ]
     },
     "execution_count": 5,
     "metadata": {},
     "output_type": "execute_result"
    }
   ],
   "source": [
    "df = pd.read_csv('../data/Train.csv')\n",
    "df_test = pd.read_csv('../data/Test.csv')\n",
    "sample_submission = pd.read_csv('../data/SampleSubmission.csv')\n",
    "df.head(2)\n"
   ]
  },
  {
   "cell_type": "code",
   "execution_count": 6,
   "metadata": {},
   "outputs": [
    {
     "data": {
      "text/html": [
       "<div>\n",
       "<style scoped>\n",
       "    .dataframe tbody tr th:only-of-type {\n",
       "        vertical-align: middle;\n",
       "    }\n",
       "\n",
       "    .dataframe tbody tr th {\n",
       "        vertical-align: top;\n",
       "    }\n",
       "\n",
       "    .dataframe thead th {\n",
       "        text-align: right;\n",
       "    }\n",
       "</style>\n",
       "<table border=\"1\" class=\"dataframe\">\n",
       "  <thead>\n",
       "    <tr style=\"text-align: right;\">\n",
       "      <th></th>\n",
       "      <th>MERCHANT_CATEGORIZED_AT</th>\n",
       "      <th>MERCHANT_NAME</th>\n",
       "      <th>PURCHASE_VALUE</th>\n",
       "      <th>PURCHASED_AT</th>\n",
       "      <th>IS_PURCHASE_PAID_VIA_MPESA_SEND_MONEY</th>\n",
       "      <th>USER_AGE</th>\n",
       "      <th>USER_GENDER</th>\n",
       "      <th>USER_HOUSEHOLD</th>\n",
       "      <th>USER_INCOME</th>\n",
       "      <th>USER_ID</th>\n",
       "      <th>Transaction_ID</th>\n",
       "    </tr>\n",
       "  </thead>\n",
       "  <tbody>\n",
       "    <tr>\n",
       "      <th>0</th>\n",
       "      <td>2022-06-01 10:25:16.7131+00</td>\n",
       "      <td>KCB PAYBILL AC</td>\n",
       "      <td>150000</td>\n",
       "      <td>2022-05-05 08:29:00+00</td>\n",
       "      <td>True</td>\n",
       "      <td>NaN</td>\n",
       "      <td>Male</td>\n",
       "      <td>5</td>\n",
       "      <td>150000</td>\n",
       "      <td>ID_O8P8YS18</td>\n",
       "      <td>ID_00x9h2yx</td>\n",
       "    </tr>\n",
       "    <tr>\n",
       "      <th>1</th>\n",
       "      <td>2022-03-16 13:05:51.851102+00</td>\n",
       "      <td>IPAY LTD</td>\n",
       "      <td>7394</td>\n",
       "      <td>2019-10-05 16:02:00+00</td>\n",
       "      <td>False</td>\n",
       "      <td>NaN</td>\n",
       "      <td>Female</td>\n",
       "      <td>1</td>\n",
       "      <td>10000</td>\n",
       "      <td>ID_40L9OTIM</td>\n",
       "      <td>ID_01db594f</td>\n",
       "    </tr>\n",
       "  </tbody>\n",
       "</table>\n",
       "</div>"
      ],
      "text/plain": [
       "         MERCHANT_CATEGORIZED_AT   MERCHANT_NAME  PURCHASE_VALUE  \\\n",
       "0    2022-06-01 10:25:16.7131+00  KCB PAYBILL AC          150000   \n",
       "1  2022-03-16 13:05:51.851102+00        IPAY LTD            7394   \n",
       "\n",
       "             PURCHASED_AT  IS_PURCHASE_PAID_VIA_MPESA_SEND_MONEY  USER_AGE  \\\n",
       "0  2022-05-05 08:29:00+00                                   True       NaN   \n",
       "1  2019-10-05 16:02:00+00                                  False       NaN   \n",
       "\n",
       "  USER_GENDER  USER_HOUSEHOLD  USER_INCOME      USER_ID Transaction_ID  \n",
       "0        Male               5       150000  ID_O8P8YS18    ID_00x9h2yx  \n",
       "1      Female               1        10000  ID_40L9OTIM    ID_01db594f  "
      ]
     },
     "execution_count": 6,
     "metadata": {},
     "output_type": "execute_result"
    }
   ],
   "source": [
    "df_test.head(2)"
   ]
  },
  {
   "cell_type": "code",
   "execution_count": 7,
   "metadata": {},
   "outputs": [
    {
     "data": {
      "text/html": [
       "<div>\n",
       "<style scoped>\n",
       "    .dataframe tbody tr th:only-of-type {\n",
       "        vertical-align: middle;\n",
       "    }\n",
       "\n",
       "    .dataframe tbody tr th {\n",
       "        vertical-align: top;\n",
       "    }\n",
       "\n",
       "    .dataframe thead th {\n",
       "        text-align: right;\n",
       "    }\n",
       "</style>\n",
       "<table border=\"1\" class=\"dataframe\">\n",
       "  <thead>\n",
       "    <tr style=\"text-align: right;\">\n",
       "      <th></th>\n",
       "      <th>Transaction_ID</th>\n",
       "      <th>Bills &amp; Fees</th>\n",
       "      <th>Data &amp; WiFi</th>\n",
       "      <th>Education</th>\n",
       "      <th>Emergency fund</th>\n",
       "      <th>Family &amp; Friends</th>\n",
       "      <th>Going out</th>\n",
       "      <th>Groceries</th>\n",
       "      <th>Health</th>\n",
       "      <th>Loan Repayment</th>\n",
       "      <th>Miscellaneous</th>\n",
       "      <th>Rent / Mortgage</th>\n",
       "      <th>Shopping</th>\n",
       "      <th>Transport &amp; Fuel</th>\n",
       "    </tr>\n",
       "  </thead>\n",
       "  <tbody>\n",
       "    <tr>\n",
       "      <th>0</th>\n",
       "      <td>ID_00x9h2yx</td>\n",
       "      <td>0</td>\n",
       "      <td>0</td>\n",
       "      <td>0</td>\n",
       "      <td>0</td>\n",
       "      <td>0</td>\n",
       "      <td>0</td>\n",
       "      <td>0</td>\n",
       "      <td>0</td>\n",
       "      <td>0</td>\n",
       "      <td>0</td>\n",
       "      <td>0</td>\n",
       "      <td>0</td>\n",
       "      <td>0</td>\n",
       "    </tr>\n",
       "    <tr>\n",
       "      <th>1</th>\n",
       "      <td>ID_01db594f</td>\n",
       "      <td>0</td>\n",
       "      <td>0</td>\n",
       "      <td>0</td>\n",
       "      <td>0</td>\n",
       "      <td>0</td>\n",
       "      <td>0</td>\n",
       "      <td>0</td>\n",
       "      <td>0</td>\n",
       "      <td>0</td>\n",
       "      <td>0</td>\n",
       "      <td>0</td>\n",
       "      <td>0</td>\n",
       "      <td>0</td>\n",
       "    </tr>\n",
       "  </tbody>\n",
       "</table>\n",
       "</div>"
      ],
      "text/plain": [
       "  Transaction_ID  Bills & Fees  Data & WiFi  Education  Emergency fund  \\\n",
       "0    ID_00x9h2yx             0            0          0               0   \n",
       "1    ID_01db594f             0            0          0               0   \n",
       "\n",
       "   Family & Friends  Going out  Groceries  Health  Loan Repayment  \\\n",
       "0                 0          0          0       0               0   \n",
       "1                 0          0          0       0               0   \n",
       "\n",
       "   Miscellaneous  Rent / Mortgage  Shopping  Transport & Fuel  \n",
       "0              0                0         0                 0  \n",
       "1              0                0         0                 0  "
      ]
     },
     "execution_count": 7,
     "metadata": {},
     "output_type": "execute_result"
    }
   ],
   "source": [
    "sample_submission.head(2)"
   ]
  },
  {
   "cell_type": "markdown",
   "metadata": {},
   "source": [
    "##### Dealing with missing values.\n",
    "Recall there are some missing values in the Train csv file. \n"
   ]
  },
  {
   "cell_type": "code",
   "execution_count": 8,
   "metadata": {},
   "outputs": [],
   "source": [
    "# We'll fill the missing values with the median just as we did in the eda notebook.\n",
    "df_median = np.median(df['USER_AGE'].dropna())\n",
    "df['USER_AGE'] = df['USER_AGE'].fillna(df_median)\n",
    "\n",
    "dftest_median = np.median(df_test['USER_AGE'].dropna())\n",
    "df_test['USER_AGE'] = df_test['USER_AGE'].fillna(dftest_median)"
   ]
  },
  {
   "cell_type": "code",
   "execution_count": 9,
   "metadata": {},
   "outputs": [],
   "source": [
    "# dealing with missing values for USER_GENDER\n",
    "# We'll fill in these values using the MALE gender as it is more common\n",
    "df[\"USER_GENDER\"] = df[\"USER_GENDER\"].apply(lambda x: \"Male\" if pd.isna(x) else x)\n",
    "df_test[\"USER_GENDER\"] = df_test[\"USER_GENDER\"].apply(lambda x: \"Male\" if pd.isna(x) else x)"
   ]
  },
  {
   "cell_type": "code",
   "execution_count": 10,
   "metadata": {},
   "outputs": [],
   "source": [
    "use_cols = [c for c in df.columns if c not in ('MERCHANT_CATEGORIZED_AS', 'kfold', 'USER_ID', 'Transaction_ID', 'PURCHASED_AT', 'MERCHANT_CATEGORIZED_AT')]\n",
    "obj = [c for c in use_cols if df[c].dtype == 'object']\n",
    "num = ['USER_INCOME', 'PURCHASE_VALUE']\n"
   ]
  },
  {
   "cell_type": "code",
   "execution_count": 11,
   "metadata": {},
   "outputs": [],
   "source": [
    "y = df.MERCHANT_CATEGORIZED_AS\n",
    "X = df.drop('MERCHANT_CATEGORIZED_AS', axis=1)"
   ]
  },
  {
   "cell_type": "code",
   "execution_count": 12,
   "metadata": {},
   "outputs": [],
   "source": [
    "# label encoding\n",
    "le = LabelEncoder()\n",
    "y = le.fit_transform(y)"
   ]
  },
  {
   "cell_type": "code",
   "execution_count": 13,
   "metadata": {},
   "outputs": [
    {
     "data": {
      "text/plain": [
       "array(['Bills & Fees', 'Data & WiFi', 'Education', 'Emergency fund',\n",
       "       'Family & Friends', 'Going out', 'Groceries', 'Health',\n",
       "       'Loan Repayment', 'Miscellaneous', 'Rent / Mortgage', 'Shopping',\n",
       "       'Transport & Fuel'], dtype=object)"
      ]
     },
     "execution_count": 13,
     "metadata": {},
     "output_type": "execute_result"
    }
   ],
   "source": [
    "le.classes_"
   ]
  },
  {
   "cell_type": "code",
   "execution_count": 14,
   "metadata": {},
   "outputs": [],
   "source": [
    "X_train, X_valid, y_train, y_valid = train_test_split(X, y, test_size=0.1)\n"
   ]
  },
  {
   "cell_type": "code",
   "execution_count": 15,
   "metadata": {},
   "outputs": [],
   "source": [
    "x_train = X_train[use_cols].copy()\n",
    "x_valid = X_valid[use_cols].copy()"
   ]
  },
  {
   "cell_type": "code",
   "execution_count": 16,
   "metadata": {},
   "outputs": [
    {
     "data": {
      "text/html": [
       "<div>\n",
       "<style scoped>\n",
       "    .dataframe tbody tr th:only-of-type {\n",
       "        vertical-align: middle;\n",
       "    }\n",
       "\n",
       "    .dataframe tbody tr th {\n",
       "        vertical-align: top;\n",
       "    }\n",
       "\n",
       "    .dataframe thead th {\n",
       "        text-align: right;\n",
       "    }\n",
       "</style>\n",
       "<table border=\"1\" class=\"dataframe\">\n",
       "  <thead>\n",
       "    <tr style=\"text-align: right;\">\n",
       "      <th></th>\n",
       "      <th>MERCHANT_NAME</th>\n",
       "      <th>PURCHASE_VALUE</th>\n",
       "      <th>IS_PURCHASE_PAID_VIA_MPESA_SEND_MONEY</th>\n",
       "      <th>USER_AGE</th>\n",
       "      <th>USER_GENDER</th>\n",
       "      <th>USER_HOUSEHOLD</th>\n",
       "      <th>USER_INCOME</th>\n",
       "    </tr>\n",
       "  </thead>\n",
       "  <tbody>\n",
       "    <tr>\n",
       "      <th>140</th>\n",
       "      <td>FATUMA OSORE</td>\n",
       "      <td>90</td>\n",
       "      <td>False</td>\n",
       "      <td>25.0</td>\n",
       "      <td>Male</td>\n",
       "      <td>3</td>\n",
       "      <td>10000</td>\n",
       "    </tr>\n",
       "    <tr>\n",
       "      <th>303</th>\n",
       "      <td>FAMILY BANK PESA PAP</td>\n",
       "      <td>10000</td>\n",
       "      <td>True</td>\n",
       "      <td>25.0</td>\n",
       "      <td>Male</td>\n",
       "      <td>3</td>\n",
       "      <td>200000</td>\n",
       "    </tr>\n",
       "  </tbody>\n",
       "</table>\n",
       "</div>"
      ],
      "text/plain": [
       "            MERCHANT_NAME  PURCHASE_VALUE  \\\n",
       "140          FATUMA OSORE              90   \n",
       "303  FAMILY BANK PESA PAP           10000   \n",
       "\n",
       "     IS_PURCHASE_PAID_VIA_MPESA_SEND_MONEY  USER_AGE USER_GENDER  \\\n",
       "140                                  False      25.0        Male   \n",
       "303                                   True      25.0        Male   \n",
       "\n",
       "     USER_HOUSEHOLD  USER_INCOME  \n",
       "140               3        10000  \n",
       "303               3       200000  "
      ]
     },
     "execution_count": 16,
     "metadata": {},
     "output_type": "execute_result"
    }
   ],
   "source": [
    "x_train.head(2)"
   ]
  },
  {
   "cell_type": "markdown",
   "metadata": {},
   "source": [
    "function for comparing all different approaches we'll use."
   ]
  },
  {
   "cell_type": "code",
   "execution_count": 17,
   "metadata": {},
   "outputs": [],
   "source": [
    "def score_dataset(x_train, x_valid, y_train, y_valid):\n",
    "    # train\n",
    "    model = RandomForestClassifier(n_estimators=100, random_state=42, n_jobs = -1)\n",
    "    model.fit(x_train,y_train)\n",
    "    preds = model.predict(x_valid)\n",
    "    print(metrics.log_loss(y_valid, preds, labels=le.classes_))\n",
    "    return metrics.log_loss(y_valid, preds)\n",
    "    "
   ]
  },
  {
   "cell_type": "code",
   "execution_count": 27,
   "metadata": {},
   "outputs": [],
   "source": [
    "# copying the data to avoid changing the data\n",
    "xtrain = x_train.copy()\n",
    "xvalid = x_valid.copy()\n",
    "\n",
    "# Applying ordinal encoder on each categorical column\n",
    "ord_enc = OrdinalEncoder(handle_unknown='use_encoded_value', unknown_value=9999)\n",
    "xtrain[obj] = ord_enc.fit_transform(xtrain[obj])\n",
    "xvalid[obj] = ord_enc.transform(xvalid[obj])\n",
    "\n",
    "# get a score\n",
    "# print(score_dataset(xtrain, xvalid, y_train, y_valid))"
   ]
  },
  {
   "cell_type": "code",
   "execution_count": 28,
   "metadata": {},
   "outputs": [
    {
     "name": "stdout",
     "output_type": "stream",
     "text": [
      "0.0\n"
     ]
    }
   ],
   "source": [
    "model = RandomForestClassifier()\n",
    "model.fit(xtrain, y_train)\n",
    "preds = model.predict_proba(xvalid)\n",
    "print(metrics.log_loss(y_valid, preds, labels=le.classes_))"
   ]
  },
  {
   "cell_type": "code",
   "execution_count": 30,
   "metadata": {},
   "outputs": [
    {
     "data": {
      "text/plain": [
       "array([[0.19 , 0.01 , 0.01 , ..., 0.   , 0.05 , 0.   ],\n",
       "       [0.15 , 0.   , 0.   , ..., 0.   , 0.01 , 0.   ],\n",
       "       [0.04 , 0.   , 0.   , ..., 0.   , 0.04 , 0.075],\n",
       "       ...,\n",
       "       [0.19 , 0.15 , 0.   , ..., 0.   , 0.   , 0.17 ],\n",
       "       [0.34 , 0.   , 0.   , ..., 0.01 , 0.01 , 0.   ],\n",
       "       [0.   , 0.24 , 0.   , ..., 0.   , 0.04 , 0.01 ]])"
      ]
     },
     "execution_count": 30,
     "metadata": {},
     "output_type": "execute_result"
    }
   ],
   "source": [
    "# applying model above to our test\n",
    "df_test = df_test[use_cols].copy()\n",
    "# df_test[obj] = ord_enc.transform(df_test[obj])\n",
    "test_preds = model.predict_proba(df_test)\n",
    "test_preds"
   ]
  },
  {
   "cell_type": "code",
   "execution_count": 31,
   "metadata": {},
   "outputs": [],
   "source": [
    "sample_submission[['Bills & Fees', 'Data & WiFi', 'Education',\n",
    "       'Emergency fund', 'Family & Friends', 'Going out', 'Groceries',\n",
    "       'Health', 'Loan Repayment', 'Miscellaneous', 'Rent / Mortgage',\n",
    "       'Shopping', 'Transport & Fuel']]= test_preds"
   ]
  },
  {
   "cell_type": "code",
   "execution_count": 32,
   "metadata": {},
   "outputs": [],
   "source": [
    "sample_submission.to_csv('../data/submissions/ss_baseline_org.csv', index=False)"
   ]
  },
  {
   "cell_type": "markdown",
   "metadata": {},
   "source": [
    "Our model with no feature engineering got a score of 3.546501152092195"
   ]
  }
 ],
 "metadata": {
  "kernelspec": {
   "display_name": "Python 3.8.5 ('base')",
   "language": "python",
   "name": "python3"
  },
  "language_info": {
   "codemirror_mode": {
    "name": "ipython",
    "version": 3
   },
   "file_extension": ".py",
   "mimetype": "text/x-python",
   "name": "python",
   "nbconvert_exporter": "python",
   "pygments_lexer": "ipython3",
   "version": "3.8.5"
  },
  "orig_nbformat": 4,
  "vscode": {
   "interpreter": {
    "hash": "8419eec2978427b8674b3c4d9ff082f3a736a9371089132db9f1280a89064118"
   }
  }
 },
 "nbformat": 4,
 "nbformat_minor": 2
}
